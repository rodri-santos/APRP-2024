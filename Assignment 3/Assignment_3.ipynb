{
  "cells": [
    {
      "cell_type": "markdown",
      "metadata": {
        "id": "sWcosdx8QfES"
      },
      "source": [
        "---\n",
        "\n",
        "**APRP: 3. HMM, Parameter and Structure Learning**\n",
        "\n",
        "---\n"
      ]
    },
    {
      "cell_type": "markdown",
      "metadata": {
        "id": "893jl7ncQfEW"
      },
      "source": [
        "**Contents:**\n",
        "\n",
        "--------\n",
        "\n",
        "**PART 1: Hidden Markov Model for sequence annotation**\n",
        "1. Understand sequence annotation annotation components\n",
        "2. Understand HMM\n",
        "3. Implementation and testing\n",
        "\n",
        "\n",
        "**PART 2: Parameter and Structure Learning**\n",
        "1. Short context\n",
        "2. Parameter Learning in a Bayes Net\n",
        "3. Structure Learning in a Bayes Net\n",
        "\n",
        "\n"
      ]
    },
    {
      "cell_type": "markdown",
      "source": [
        "# **PART 1: Hidden Markov Model for sequence annotation**"
      ],
      "metadata": {
        "id": "Boh3kyOrfgwC"
      }
    },
    {
      "cell_type": "markdown",
      "source": [
        "### 1. Short context and intro\n",
        "\n",
        "Main links\n",
        "- DNA: https://en.wikipedia.org/wiki/DNA\n",
        "- Coding region: https://en.wikipedia.org/wiki/Coding_region\n",
        "\n",
        "\n"
      ],
      "metadata": {
        "id": "bTPHJNvefiCv"
      }
    },
    {
      "cell_type": "markdown",
      "source": [
        "### 2. Setting up the enviroment\n",
        "Loading common Libraries.\n",
        "\n",
        "To consider:\n",
        "-seq: sequence to analyse\n",
        "-base: 4 possible bases Adenine Guanine Uracil Cytosine\n",
        "-emissions: emission probability for each state\n",
        "-states: possible states to annotate the sequence\n",
        "-transistions: matrix with the stats prob transitions"
      ],
      "metadata": {
        "id": "TVXatvJOfiCv"
      }
    },
    {
      "cell_type": "code",
      "execution_count": 1,
      "metadata": {
        "id": "OLTk250ifiCv"
      },
      "outputs": [],
      "source": [
        "import numpy as np\n",
        "\n",
        "seq= \"AGCTAGCAGTATGTCATGGCATGTTCGGAGGTAGTACGTAGAGGTAGCTAGTATAGGTCGATAGTACGCGA\"\n",
        "\n",
        "bases = \"ACTG\"\n",
        "emissions = (0.25,0.25,0.25,0.25)\n",
        "states = (\"intergenic\",\"atg\",\"exon\",\"gt\",\"intron\",\"ag\",\"gta\")\n",
        "transitions =((0.99,0.01,0,0,0,0,0),\n",
        "\t\t\t (0,0,1,0,0,0,0),\n",
        "\t\t\t (0,0,0.9,0.05,0,0,0.05),\n",
        "\t\t\t (0,0,0,0,1,0,0),\n",
        "\t\t\t (0,0,0,0,0.9,0.1,0),\n",
        "\t\t\t (0,0,1,0,0,0,0),\n",
        "\t\t\t (1,0,0,0,0,0,0))"
      ]
    },
    {
      "cell_type": "markdown",
      "metadata": {
        "id": "jROC4eZDfiC5"
      },
      "source": [
        "### 2. Callenges\n",
        "\n",
        "1. Implement an HMM (generic)\n",
        "2. Evaluate the most probable set of states for the given sequence\n",
        "\n",
        "\n",
        "\n",
        "\n",
        "\n",
        "\n"
      ]
    },
    {
      "cell_type": "markdown",
      "source": [
        "# **PART 2: Parameter and structure Learning**"
      ],
      "metadata": {
        "id": "VnsiQ5U7f2TG"
      }
    },
    {
      "cell_type": "markdown",
      "source": [
        "### 1. Short context\n",
        "\n",
        "So far we have been focused on how Bayesian networks efficiently encode a probability distribution over a set of variables.\n",
        "This Assignment will be about obtaining a Bayesian network, given a set of sample data. First we focus on the problem of **parameter Learning** for a given network and secondly on **learning the structure** itself.\n",
        "\n",
        "\n"
      ],
      "metadata": {
        "id": "2EVJzxi1EbL5"
      }
    },
    {
      "cell_type": "markdown",
      "source": [
        "### 2. Parameter Learning in a Bayes Net\n",
        "## 2.1. Introductory example\n"
      ],
      "metadata": {
        "id": "oaYg-3040s5U"
      }
    },
    {
      "cell_type": "code",
      "source": [
        "!pip install pgmpy"
      ],
      "metadata": {
        "colab": {
          "base_uri": "https://localhost:8080/"
        },
        "id": "F1TorESeTGXW",
        "outputId": "a495a0be-fb30-4e21-a2a0-7d58f3a4d8ab"
      },
      "execution_count": 2,
      "outputs": [
        {
          "output_type": "stream",
          "name": "stdout",
          "text": [
            "Collecting pgmpy\n",
            "  Downloading pgmpy-0.1.25-py3-none-any.whl (2.0 MB)\n",
            "\u001b[2K     \u001b[90m━━━━━━━━━━━━━━━━━━━━━━━━━━━━━━━━━━━━━━━━\u001b[0m \u001b[32m2.0/2.0 MB\u001b[0m \u001b[31m8.8 MB/s\u001b[0m eta \u001b[36m0:00:00\u001b[0m\n",
            "\u001b[?25hRequirement already satisfied: networkx in /usr/local/lib/python3.10/dist-packages (from pgmpy) (3.2.1)\n",
            "Requirement already satisfied: numpy in /usr/local/lib/python3.10/dist-packages (from pgmpy) (1.25.2)\n",
            "Requirement already satisfied: scipy in /usr/local/lib/python3.10/dist-packages (from pgmpy) (1.11.4)\n",
            "Requirement already satisfied: scikit-learn in /usr/local/lib/python3.10/dist-packages (from pgmpy) (1.2.2)\n",
            "Requirement already satisfied: pandas in /usr/local/lib/python3.10/dist-packages (from pgmpy) (2.0.3)\n",
            "Requirement already satisfied: pyparsing in /usr/local/lib/python3.10/dist-packages (from pgmpy) (3.1.2)\n",
            "Requirement already satisfied: torch in /usr/local/lib/python3.10/dist-packages (from pgmpy) (2.2.1+cu121)\n",
            "Requirement already satisfied: statsmodels in /usr/local/lib/python3.10/dist-packages (from pgmpy) (0.14.1)\n",
            "Requirement already satisfied: tqdm in /usr/local/lib/python3.10/dist-packages (from pgmpy) (4.66.2)\n",
            "Requirement already satisfied: joblib in /usr/local/lib/python3.10/dist-packages (from pgmpy) (1.3.2)\n",
            "Requirement already satisfied: opt-einsum in /usr/local/lib/python3.10/dist-packages (from pgmpy) (3.3.0)\n",
            "Requirement already satisfied: python-dateutil>=2.8.2 in /usr/local/lib/python3.10/dist-packages (from pandas->pgmpy) (2.8.2)\n",
            "Requirement already satisfied: pytz>=2020.1 in /usr/local/lib/python3.10/dist-packages (from pandas->pgmpy) (2023.4)\n",
            "Requirement already satisfied: tzdata>=2022.1 in /usr/local/lib/python3.10/dist-packages (from pandas->pgmpy) (2024.1)\n",
            "Requirement already satisfied: threadpoolctl>=2.0.0 in /usr/local/lib/python3.10/dist-packages (from scikit-learn->pgmpy) (3.4.0)\n",
            "Requirement already satisfied: patsy>=0.5.4 in /usr/local/lib/python3.10/dist-packages (from statsmodels->pgmpy) (0.5.6)\n",
            "Requirement already satisfied: packaging>=21.3 in /usr/local/lib/python3.10/dist-packages (from statsmodels->pgmpy) (24.0)\n",
            "Requirement already satisfied: filelock in /usr/local/lib/python3.10/dist-packages (from torch->pgmpy) (3.13.3)\n",
            "Requirement already satisfied: typing-extensions>=4.8.0 in /usr/local/lib/python3.10/dist-packages (from torch->pgmpy) (4.10.0)\n",
            "Requirement already satisfied: sympy in /usr/local/lib/python3.10/dist-packages (from torch->pgmpy) (1.12)\n",
            "Requirement already satisfied: jinja2 in /usr/local/lib/python3.10/dist-packages (from torch->pgmpy) (3.1.3)\n",
            "Requirement already satisfied: fsspec in /usr/local/lib/python3.10/dist-packages (from torch->pgmpy) (2023.6.0)\n",
            "Collecting nvidia-cuda-nvrtc-cu12==12.1.105 (from torch->pgmpy)\n",
            "  Downloading nvidia_cuda_nvrtc_cu12-12.1.105-py3-none-manylinux1_x86_64.whl (23.7 MB)\n",
            "\u001b[2K     \u001b[90m━━━━━━━━━━━━━━━━━━━━━━━━━━━━━━━━━━━━━━━━\u001b[0m \u001b[32m23.7/23.7 MB\u001b[0m \u001b[31m25.7 MB/s\u001b[0m eta \u001b[36m0:00:00\u001b[0m\n",
            "\u001b[?25hCollecting nvidia-cuda-runtime-cu12==12.1.105 (from torch->pgmpy)\n",
            "  Downloading nvidia_cuda_runtime_cu12-12.1.105-py3-none-manylinux1_x86_64.whl (823 kB)\n",
            "\u001b[2K     \u001b[90m━━━━━━━━━━━━━━━━━━━━━━━━━━━━━━━━━━━━━━━━\u001b[0m \u001b[32m823.6/823.6 kB\u001b[0m \u001b[31m52.5 MB/s\u001b[0m eta \u001b[36m0:00:00\u001b[0m\n",
            "\u001b[?25hCollecting nvidia-cuda-cupti-cu12==12.1.105 (from torch->pgmpy)\n",
            "  Downloading nvidia_cuda_cupti_cu12-12.1.105-py3-none-manylinux1_x86_64.whl (14.1 MB)\n",
            "\u001b[2K     \u001b[90m━━━━━━━━━━━━━━━━━━━━━━━━━━━━━━━━━━━━━━━━\u001b[0m \u001b[32m14.1/14.1 MB\u001b[0m \u001b[31m33.6 MB/s\u001b[0m eta \u001b[36m0:00:00\u001b[0m\n",
            "\u001b[?25hCollecting nvidia-cudnn-cu12==8.9.2.26 (from torch->pgmpy)\n",
            "  Downloading nvidia_cudnn_cu12-8.9.2.26-py3-none-manylinux1_x86_64.whl (731.7 MB)\n",
            "\u001b[2K     \u001b[90m━━━━━━━━━━━━━━━━━━━━━━━━━━━━━━━━━━━━━━━━\u001b[0m \u001b[32m731.7/731.7 MB\u001b[0m \u001b[31m902.0 kB/s\u001b[0m eta \u001b[36m0:00:00\u001b[0m\n",
            "\u001b[?25hCollecting nvidia-cublas-cu12==12.1.3.1 (from torch->pgmpy)\n",
            "  Downloading nvidia_cublas_cu12-12.1.3.1-py3-none-manylinux1_x86_64.whl (410.6 MB)\n",
            "\u001b[2K     \u001b[90m━━━━━━━━━━━━━━━━━━━━━━━━━━━━━━━━━━━━━━━━\u001b[0m \u001b[32m410.6/410.6 MB\u001b[0m \u001b[31m1.3 MB/s\u001b[0m eta \u001b[36m0:00:00\u001b[0m\n",
            "\u001b[?25hCollecting nvidia-cufft-cu12==11.0.2.54 (from torch->pgmpy)\n",
            "  Downloading nvidia_cufft_cu12-11.0.2.54-py3-none-manylinux1_x86_64.whl (121.6 MB)\n",
            "\u001b[2K     \u001b[90m━━━━━━━━━━━━━━━━━━━━━━━━━━━━━━━━━━━━━━━━\u001b[0m \u001b[32m121.6/121.6 MB\u001b[0m \u001b[31m3.5 MB/s\u001b[0m eta \u001b[36m0:00:00\u001b[0m\n",
            "\u001b[?25hCollecting nvidia-curand-cu12==10.3.2.106 (from torch->pgmpy)\n",
            "  Downloading nvidia_curand_cu12-10.3.2.106-py3-none-manylinux1_x86_64.whl (56.5 MB)\n",
            "\u001b[2K     \u001b[90m━━━━━━━━━━━━━━━━━━━━━━━━━━━━━━━━━━━━━━━━\u001b[0m \u001b[32m56.5/56.5 MB\u001b[0m \u001b[31m1.7 MB/s\u001b[0m eta \u001b[36m0:00:00\u001b[0m\n",
            "\u001b[?25hCollecting nvidia-cusolver-cu12==11.4.5.107 (from torch->pgmpy)\n",
            "  Downloading nvidia_cusolver_cu12-11.4.5.107-py3-none-manylinux1_x86_64.whl (124.2 MB)\n",
            "\u001b[2K     \u001b[90m━━━━━━━━━━━━━━━━━━━━━━━━━━━━━━━━━━━━━━━━\u001b[0m \u001b[32m124.2/124.2 MB\u001b[0m \u001b[31m2.4 MB/s\u001b[0m eta \u001b[36m0:00:00\u001b[0m\n",
            "\u001b[?25hCollecting nvidia-cusparse-cu12==12.1.0.106 (from torch->pgmpy)\n",
            "  Downloading nvidia_cusparse_cu12-12.1.0.106-py3-none-manylinux1_x86_64.whl (196.0 MB)\n",
            "\u001b[2K     \u001b[90m━━━━━━━━━━━━━━━━━━━━━━━━━━━━━━━━━━━━━━━━\u001b[0m \u001b[32m196.0/196.0 MB\u001b[0m \u001b[31m2.1 MB/s\u001b[0m eta \u001b[36m0:00:00\u001b[0m\n",
            "\u001b[?25hCollecting nvidia-nccl-cu12==2.19.3 (from torch->pgmpy)\n",
            "  Downloading nvidia_nccl_cu12-2.19.3-py3-none-manylinux1_x86_64.whl (166.0 MB)\n",
            "\u001b[2K     \u001b[90m━━━━━━━━━━━━━━━━━━━━━━━━━━━━━━━━━━━━━━━━\u001b[0m \u001b[32m166.0/166.0 MB\u001b[0m \u001b[31m1.5 MB/s\u001b[0m eta \u001b[36m0:00:00\u001b[0m\n",
            "\u001b[?25hCollecting nvidia-nvtx-cu12==12.1.105 (from torch->pgmpy)\n",
            "  Downloading nvidia_nvtx_cu12-12.1.105-py3-none-manylinux1_x86_64.whl (99 kB)\n",
            "\u001b[2K     \u001b[90m━━━━━━━━━━━━━━━━━━━━━━━━━━━━━━━━━━━━━━━━\u001b[0m \u001b[32m99.1/99.1 kB\u001b[0m \u001b[31m1.2 MB/s\u001b[0m eta \u001b[36m0:00:00\u001b[0m\n",
            "\u001b[?25hRequirement already satisfied: triton==2.2.0 in /usr/local/lib/python3.10/dist-packages (from torch->pgmpy) (2.2.0)\n",
            "Collecting nvidia-nvjitlink-cu12 (from nvidia-cusolver-cu12==11.4.5.107->torch->pgmpy)\n",
            "  Downloading nvidia_nvjitlink_cu12-12.4.127-py3-none-manylinux2014_x86_64.whl (21.1 MB)\n",
            "\u001b[2K     \u001b[90m━━━━━━━━━━━━━━━━━━━━━━━━━━━━━━━━━━━━━━━━\u001b[0m \u001b[32m21.1/21.1 MB\u001b[0m \u001b[31m2.3 MB/s\u001b[0m eta \u001b[36m0:00:00\u001b[0m\n",
            "\u001b[?25hRequirement already satisfied: six in /usr/local/lib/python3.10/dist-packages (from patsy>=0.5.4->statsmodels->pgmpy) (1.16.0)\n",
            "Requirement already satisfied: MarkupSafe>=2.0 in /usr/local/lib/python3.10/dist-packages (from jinja2->torch->pgmpy) (2.1.5)\n",
            "Requirement already satisfied: mpmath>=0.19 in /usr/local/lib/python3.10/dist-packages (from sympy->torch->pgmpy) (1.3.0)\n",
            "Installing collected packages: nvidia-nvtx-cu12, nvidia-nvjitlink-cu12, nvidia-nccl-cu12, nvidia-curand-cu12, nvidia-cufft-cu12, nvidia-cuda-runtime-cu12, nvidia-cuda-nvrtc-cu12, nvidia-cuda-cupti-cu12, nvidia-cublas-cu12, nvidia-cusparse-cu12, nvidia-cudnn-cu12, nvidia-cusolver-cu12, pgmpy\n",
            "Successfully installed nvidia-cublas-cu12-12.1.3.1 nvidia-cuda-cupti-cu12-12.1.105 nvidia-cuda-nvrtc-cu12-12.1.105 nvidia-cuda-runtime-cu12-12.1.105 nvidia-cudnn-cu12-8.9.2.26 nvidia-cufft-cu12-11.0.2.54 nvidia-curand-cu12-10.3.2.106 nvidia-cusolver-cu12-11.4.5.107 nvidia-cusparse-cu12-12.1.0.106 nvidia-nccl-cu12-2.19.3 nvidia-nvjitlink-cu12-12.4.127 nvidia-nvtx-cu12-12.1.105 pgmpy-0.1.25\n"
          ]
        }
      ]
    },
    {
      "cell_type": "code",
      "execution_count": 3,
      "metadata": {
        "id": "-oRUtvivQfEV",
        "colab": {
          "base_uri": "https://localhost:8080/"
        },
        "outputId": "83ceda49-8453-497e-9db7-1f89488315a4"
      },
      "outputs": [
        {
          "output_type": "stream",
          "name": "stderr",
          "text": [
            "WARNING:pgmpy:BayesianModel has been renamed to BayesianNetwork. Please use BayesianNetwork class, BayesianModel will be removed in future.\n"
          ]
        },
        {
          "output_type": "stream",
          "name": "stdout",
          "text": [
            "MLE Estimator\n",
            "+---------------+-----+\n",
            "| fruit(apple)  | 0.5 |\n",
            "+---------------+-----+\n",
            "| fruit(banana) | 0.5 |\n",
            "+---------------+-----+\n",
            "+------------+--------------+--------------------+---------------------+---------------+\n",
            "| fruit      | fruit(apple) | fruit(apple)       | fruit(banana)       | fruit(banana) |\n",
            "+------------+--------------+--------------------+---------------------+---------------+\n",
            "| size       | size(large)  | size(small)        | size(large)         | size(small)   |\n",
            "+------------+--------------+--------------------+---------------------+---------------+\n",
            "| tasty(no)  | 0.25         | 0.3333333333333333 | 0.16666666666666666 | 1.0           |\n",
            "+------------+--------------+--------------------+---------------------+---------------+\n",
            "| tasty(yes) | 0.75         | 0.6666666666666666 | 0.8333333333333334  | 0.0           |\n",
            "+------------+--------------+--------------------+---------------------+---------------+\n",
            "Bayesian Estimator\n",
            "+------------+---------------------+--------------------+--------------------+---------------------+\n",
            "| fruit      | fruit(apple)        | fruit(apple)       | fruit(banana)      | fruit(banana)       |\n",
            "+------------+---------------------+--------------------+--------------------+---------------------+\n",
            "| size       | size(large)         | size(small)        | size(large)        | size(small)         |\n",
            "+------------+---------------------+--------------------+--------------------+---------------------+\n",
            "| tasty(no)  | 0.34615384615384615 | 0.4090909090909091 | 0.2647058823529412 | 0.6428571428571429  |\n",
            "+------------+---------------------+--------------------+--------------------+---------------------+\n",
            "| tasty(yes) | 0.6538461538461539  | 0.5909090909090909 | 0.7352941176470589 | 0.35714285714285715 |\n",
            "+------------+---------------------+--------------------+--------------------+---------------------+\n"
          ]
        }
      ],
      "source": [
        "#Based on https://pgmpy.org/detailed_notebooks/10.%20Learning%20Bayesian%20Networks%20from%20Data.html\n",
        "import numpy as np\n",
        "import pandas as pd\n",
        "from pgmpy.models import BayesianModel\n",
        "from pgmpy.estimators import BayesianEstimator\n",
        "from pgmpy.estimators import MaximumLikelihoodEstimator\n",
        "\n",
        "# Model\n",
        "data = pd.DataFrame(data={'fruit': [\"banana\", \"apple\", \"banana\", \"apple\", \"banana\",\"apple\", \"banana\",\n",
        "                                    \"apple\", \"apple\", \"apple\", \"banana\", \"banana\", \"apple\", \"banana\",],\n",
        "                          'tasty': [\"yes\", \"no\", \"yes\", \"yes\", \"yes\", \"yes\", \"yes\",\n",
        "                                    \"yes\", \"yes\", \"yes\", \"yes\", \"no\", \"no\", \"no\"],\n",
        "                          'size': [\"large\", \"large\", \"large\", \"small\", \"large\", \"large\", \"large\",\n",
        "                                    \"small\", \"large\", \"large\", \"large\", \"large\", \"small\", \"small\"]})\n",
        "model = BayesianModel([('fruit', 'tasty'), ('size', 'tasty')]) #tasty condicionado pela fruta e pelo tamanho\n",
        "\n",
        "\n",
        "# Use a MLE estimator to obtain the CPDs tables\n",
        "print(\"MLE Estimator\")\n",
        "mle = MaximumLikelihoodEstimator(model, data)\n",
        "print(mle.estimate_cpd('fruit'))  # unconditional\n",
        "print(mle.estimate_cpd('tasty'))  # conditional\n",
        "\n",
        "# Use a Bayesian estimator to obtain the CPDs tables\n",
        "print(\"Bayesian Estimator\")\n",
        "est = BayesianEstimator(model, data)\n",
        "print(est.estimate_cpd('tasty', prior_type='BDeu', equivalent_sample_size=10))"
      ]
    },
    {
      "cell_type": "markdown",
      "source": [
        "## 2.2. Questions\n",
        "Analyse the previous results to provide an answer the following questions:\n",
        "\n",
        "1. For MLE, why small bananas are not tasty?\n",
        "2. Why the CPDs tables for MLE and Bayesian estimators differ?\n",
        "3. What is the goal of the *prior_type*?"
      ],
      "metadata": {
        "id": "9vwslYvSY3m_"
      }
    },
    {
      "cell_type": "markdown",
      "source": [
        "1.\n",
        "\n",
        "Existem 2 bananas pequenas e 1 delas é classificada como saborosa. Provavelmente o MLE estimou que as bananas pequenas não são saborosas porque no dataset o número de bananas pequenas classificadas como não saborosas é maior que o das classificadas como saborosas.\n",
        "\n",
        "2.\n",
        "\n",
        "As CPDs do MLE e Bayesian Estimator diferem porque o MLE assume uma distribuição a priori uniforme e pode dar overfitting aos dados, originando CPDs menos corretas. Quanto ao Bayesian Estimator, como este envolve conhecimento a priori, origina CPDs mais corretas.\n",
        "\n",
        "3.\n",
        "\n",
        "É um argumento utilizado para espicificar o tipo de distribuição a priori usada para estimar os parâmetros do modelo. No caso acima, o BDeu (Bayesian Dirichlet equivalent uniform) utiliza uma distribuição de Dirichlet com parâmetros uniforme a priori.\n"
      ],
      "metadata": {
        "id": "lwoAesGKous4"
      }
    },
    {
      "cell_type": "markdown",
      "source": [
        "### 3. Structure Learning\n",
        "## 3.1. Scoring function. Example 1:"
      ],
      "metadata": {
        "id": "pZhzhYwmeA12"
      }
    },
    {
      "cell_type": "code",
      "source": [
        "from pgmpy.estimators import BDeuScore, K2Score, BicScore\n",
        "\n",
        "bdeu = BDeuScore(data, equivalent_sample_size=5)\n",
        "k2 = K2Score(data)\n",
        "bic = BicScore(data)\n",
        "\n",
        "model1 = BayesianModel([('fruit', 'tasty'), ('size', 'tasty')]) # fruit -> tasty <- size\n",
        "model2 = BayesianModel([('tasty', 'fruit'), ('tasty', 'size')]) # fruit <- tasty -> size\n",
        "\n",
        "print(bdeu.score(model1))\n",
        "print(k2.score(model1))\n",
        "print(bic.score(model1))\n",
        "\n",
        "print(bdeu.score(model2))\n",
        "print(k2.score(model2))\n",
        "print(bic.score(model2))\n"
      ],
      "metadata": {
        "colab": {
          "base_uri": "https://localhost:8080/"
        },
        "id": "97J3Epo-eN7x",
        "outputId": "af684ca7-f2ee-4c80-9195-c05046caadfa"
      },
      "execution_count": 4,
      "outputs": [
        {
          "output_type": "stream",
          "name": "stderr",
          "text": [
            "WARNING:pgmpy:BayesianModel has been renamed to BayesianNetwork. Please use BayesianNetwork class, BayesianModel will be removed in future.\n",
            "WARNING:pgmpy:BayesianModel has been renamed to BayesianNetwork. Please use BayesianNetwork class, BayesianModel will be removed in future.\n"
          ]
        },
        {
          "output_type": "stream",
          "name": "stdout",
          "text": [
            "-30.12792467904587\n",
            "-30.3772093643128\n",
            "-32.859257093436106\n",
            "-29.99714276768256\n",
            "-30.551081866620226\n",
            "-32.45409104969264\n"
          ]
        }
      ]
    },
    {
      "cell_type": "markdown",
      "source": [
        "## 3.2. Scoring function. Example 2"
      ],
      "metadata": {
        "id": "wu2kd_jKfi5x"
      }
    },
    {
      "cell_type": "code",
      "source": [
        "# create random data sample with 3 variables, where Z is dependent on X, Y:\n",
        "data = pd.DataFrame(np.random.randint(0, 4, size=(5000, 2)), columns=list('XY'))\n",
        "data['Z'] = data['X'] + data['Y']\n",
        "\n",
        "bdeu = BDeuScore(data, equivalent_sample_size=5)\n",
        "k2 = K2Score(data)\n",
        "bic = BicScore(data)\n",
        "\n",
        "model1 = BayesianModel([('X', 'Z'), ('Y', 'Z')])  # X -> Z <- Y\n",
        "model2 = BayesianModel([('X', 'Z'), ('X', 'Y')])  # Y <- X -> Z\n",
        "\n",
        "\n",
        "print(bdeu.score(model1))\n",
        "print(k2.score(model1))\n",
        "print(bic.score(model1))\n",
        "\n",
        "print(bdeu.score(model2))\n",
        "print(k2.score(model2))\n",
        "print(bic.score(model2))"
      ],
      "metadata": {
        "colab": {
          "base_uri": "https://localhost:8080/"
        },
        "id": "ctF-_iT6fR6H",
        "outputId": "79079a45-fdc0-4309-c16d-f46ef6808d32"
      },
      "execution_count": 5,
      "outputs": [
        {
          "output_type": "stream",
          "name": "stderr",
          "text": [
            "WARNING:pgmpy:BayesianModel has been renamed to BayesianNetwork. Please use BayesianNetwork class, BayesianModel will be removed in future.\n",
            "WARNING:pgmpy:BayesianModel has been renamed to BayesianNetwork. Please use BayesianNetwork class, BayesianModel will be removed in future.\n"
          ]
        },
        {
          "output_type": "stream",
          "name": "stdout",
          "text": [
            "-13936.48935953548\n",
            "-14327.268987584197\n",
            "-14292.528615686488\n",
            "-20901.342569405366\n",
            "-20928.175797309992\n",
            "-20945.389990459298\n"
          ]
        }
      ]
    },
    {
      "cell_type": "markdown",
      "source": [
        "## 3.3. One last example\n",
        "\n",
        "Example with HillClimbSearch and BicScore."
      ],
      "metadata": {
        "id": "OLfrVVX9f3lJ"
      }
    },
    {
      "cell_type": "code",
      "source": [
        "from pgmpy.estimators import HillClimbSearch\n",
        "\n",
        "# create some data with dependencies\n",
        "data = pd.DataFrame(np.random.randint(0, 3, size=(2500, 8)), columns=list('ABCDEFGH'))\n",
        "data['A'] += data['B'] + data['C']\n",
        "data['H'] = data['G'] - data['A']\n",
        "\n",
        "hc = HillClimbSearch(data)\n",
        "best_model = hc.estimate(scoring_method=BicScore(data))\n",
        "print(best_model.edges())"
      ],
      "metadata": {
        "colab": {
          "base_uri": "https://localhost:8080/",
          "height": 67,
          "referenced_widgets": [
            "a66a032d5d3c4830b15ce060c90ab227",
            "dbb417d130994937a7e975ec0c998efc",
            "273288aa082d431d84384e484fe4acf7",
            "3c093cb9df62432eb8defaa97d7b4d89",
            "27464675a85148ed91c5a52d00d2009e",
            "f82a6bb090814b4f84b76e1ee5df99e9",
            "b8582d991d7f4caf9843d6f0039782b6",
            "56a52b15ab1f48ba9d0828912aceb70e",
            "44a27d834f184b5f99d1bd397c8e1935",
            "e00aee29c89145b5986a14329994e125",
            "1b202477a6b147beb13a0e2770a9b559"
          ]
        },
        "id": "wpW3oAeBf3JF",
        "outputId": "756bb8e4-c86e-4953-814a-d0aefbc3c334"
      },
      "execution_count": 6,
      "outputs": [
        {
          "output_type": "display_data",
          "data": {
            "text/plain": [
              "  0%|          | 0/1000000 [00:00<?, ?it/s]"
            ],
            "application/vnd.jupyter.widget-view+json": {
              "version_major": 2,
              "version_minor": 0,
              "model_id": "a66a032d5d3c4830b15ce060c90ab227"
            }
          },
          "metadata": {}
        },
        {
          "output_type": "stream",
          "name": "stdout",
          "text": [
            "[('A', 'H'), ('B', 'A'), ('C', 'A'), ('G', 'H')]\n"
          ]
        }
      ]
    },
    {
      "cell_type": "markdown",
      "source": [
        "## 3.4. Questions\n",
        "Based on the previous code provide an answer the following questions:\n",
        "\n",
        "1. Analyse the results from 3.1 and 3.2\n",
        "2. Analyse the structure of the obtained network.\n"
      ],
      "metadata": {
        "id": "ya6VbP4UgREH"
      }
    },
    {
      "cell_type": "markdown",
      "source": [
        "1(3.1).\n",
        "\n",
        "No modelo 1 fruit e size são independentes entre si e no modelo 2 fruit e size são dependentes entre si. Com os resultados, podemos concluir que dependendo do score, podemos obter melhores resultados com o modelo 1 ou com o modelo 2, com BICscore obtemos melhores resultados no modelo 1 e com BDeuscore e K2score obtemos melhores resultados no modelo 2.\n",
        "\n",
        "1(3.2).\n",
        "\n",
        "Aqui, o modelo 1 o X e o Y são independentes entre si e no modelo 2 X e Y são dependentes entre si. Obtemos valores maiores (negativamente) visto que temos um dataset maior. Em todos os scorings o modelo 1 obteve uma maior pontuação do que o modelo 2.\n",
        "\n",
        "2.\n",
        "\n",
        "No modelo 1 o size depende de tasty e este depende de fruit, enquanto que no modelo 2 tasty depende de fruit e de size e este depende de fruit.\n"
      ],
      "metadata": {
        "id": "PSUF9RMneZEq"
      }
    },
    {
      "cell_type": "markdown",
      "metadata": {
        "id": "tgndj-AJQfEX"
      },
      "source": [
        "### 4. Chalenge: All together now\n",
        "\n",
        "\n",
        "1. Consider the file cancer.bif with the cancer disease BN already used.\n",
        "2. Load the network and use the method *inference.likelihood_weighted_sample* to sample a minimumm of 5000 examples.\n",
        "3. Calculate the CPDs and compare with the original ones.\n",
        "4. Apply diferent strategies (scores and parameters) to determine a BN structure. Compare with the original.\n",
        "\n",
        "\n",
        "\n",
        "\n",
        "\n",
        "\n"
      ]
    },
    {
      "cell_type": "code",
      "source": [
        "from pgmpy.readwrite import BIFReader\n",
        "\n",
        "bif = BIFReader(\"/content/cancer.bif\")\n",
        "model = bif.get_model()\n",
        "edges = bif.get_edges()\n",
        "og_cpds = model.get_cpds()"
      ],
      "metadata": {
        "id": "kwk6s-jHXQqo"
      },
      "execution_count": 7,
      "outputs": []
    },
    {
      "cell_type": "code",
      "source": [
        "print(\"CPDs Originais\")\n",
        "for cpd in og_cpds:\n",
        "  print(cpd)"
      ],
      "metadata": {
        "colab": {
          "base_uri": "https://localhost:8080/"
        },
        "id": "zhPcbD1OeZWg",
        "outputId": "8ca5ae48-d066-478b-ba38-ff5d5b850edf"
      },
      "execution_count": 8,
      "outputs": [
        {
          "output_type": "stream",
          "name": "stdout",
          "text": [
            "CPDs Originais\n",
            "+---------------+----------------+----------------+-----------------+-----------------+\n",
            "| Pollution     | Pollution(low) | Pollution(low) | Pollution(high) | Pollution(high) |\n",
            "+---------------+----------------+----------------+-----------------+-----------------+\n",
            "| Smoker        | Smoker(True)   | Smoker(False)  | Smoker(True)    | Smoker(False)   |\n",
            "+---------------+----------------+----------------+-----------------+-----------------+\n",
            "| Cancer(True)  | 0.03           | 0.001          | 0.05            | 0.02            |\n",
            "+---------------+----------------+----------------+-----------------+-----------------+\n",
            "| Cancer(False) | 0.97           | 0.999          | 0.95            | 0.98            |\n",
            "+---------------+----------------+----------------+-----------------+-----------------+\n",
            "+-----------------+--------------+---------------+\n",
            "| Cancer          | Cancer(True) | Cancer(False) |\n",
            "+-----------------+--------------+---------------+\n",
            "| Dyspnoea(True)  | 0.65         | 0.3           |\n",
            "+-----------------+--------------+---------------+\n",
            "| Dyspnoea(False) | 0.35         | 0.7           |\n",
            "+-----------------+--------------+---------------+\n",
            "+-----------------+-----+\n",
            "| Pollution(low)  | 0.9 |\n",
            "+-----------------+-----+\n",
            "| Pollution(high) | 0.1 |\n",
            "+-----------------+-----+\n",
            "+---------------+-----+\n",
            "| Smoker(True)  | 0.3 |\n",
            "+---------------+-----+\n",
            "| Smoker(False) | 0.7 |\n",
            "+---------------+-----+\n",
            "+----------------+--------------+---------------+\n",
            "| Cancer         | Cancer(True) | Cancer(False) |\n",
            "+----------------+--------------+---------------+\n",
            "| Xray(positive) | 0.9          | 0.2           |\n",
            "+----------------+--------------+---------------+\n",
            "| Xray(negative) | 0.1          | 0.8           |\n",
            "+----------------+--------------+---------------+\n"
          ]
        }
      ]
    },
    {
      "cell_type": "code",
      "source": [
        "from pgmpy.sampling import BayesianModelSampling\n",
        "\n",
        "inference = BayesianModelSampling(model)\n",
        "samples = inference.likelihood_weighted_sample(size=5000)\n",
        "samples.to_csv(\"cancer_samples.csv\")"
      ],
      "metadata": {
        "colab": {
          "base_uri": "https://localhost:8080/",
          "height": 49,
          "referenced_widgets": [
            "3b9a653790104e80b3016d7945d4b914",
            "d861483e49ec4c07803e61c4b8b9dfbd",
            "f0be2b54dcef483c973899136076400c",
            "8af57dfc2dc2430ebd94b63f42c32477",
            "6243a06f6a324398a883627de90049ee",
            "3f5c213fa52e44d9954d0e78b3354956",
            "9686481959aa4322982c12c6911d2983",
            "d1c8ef724a204e20a3349eff875b1c02",
            "f32491e511cd4e74b9b2fa62b18617b4",
            "1b9b5461078d406aaa6d2dee6f22e4f8",
            "9a4865015fbe4140b14402e07394b943"
          ]
        },
        "id": "i1Si6m-RYTOl",
        "outputId": "b3919387-b2df-4ff1-cffd-5d9a67200f51"
      },
      "execution_count": 9,
      "outputs": [
        {
          "output_type": "display_data",
          "data": {
            "text/plain": [
              "  0%|          | 0/5 [00:00<?, ?it/s]"
            ],
            "application/vnd.jupyter.widget-view+json": {
              "version_major": 2,
              "version_minor": 0,
              "model_id": "3b9a653790104e80b3016d7945d4b914"
            }
          },
          "metadata": {}
        }
      ]
    },
    {
      "cell_type": "code",
      "source": [
        "# Use a MLE estimator to obtain the CPDs tables\n",
        "print(\"CPDs depois do uso do método inference.likelihood_weighted_sample\")\n",
        "model.fit(samples, estimator=MaximumLikelihoodEstimator)\n",
        "for cpd in model.get_cpds():\n",
        "    print(cpd)"
      ],
      "metadata": {
        "colab": {
          "base_uri": "https://localhost:8080/"
        },
        "id": "3Xt_vOWCZab4",
        "outputId": "9cd5472b-a97c-46dc-bd54-531aaa07dccc"
      },
      "execution_count": 10,
      "outputs": [
        {
          "output_type": "stream",
          "name": "stderr",
          "text": [
            "WARNING:pgmpy:Replacing existing CPD for Pollution\n",
            "WARNING:pgmpy:Replacing existing CPD for Smoker\n",
            "WARNING:pgmpy:Replacing existing CPD for Cancer\n",
            "WARNING:pgmpy:Replacing existing CPD for Xray\n",
            "WARNING:pgmpy:Replacing existing CPD for Dyspnoea\n"
          ]
        },
        {
          "output_type": "stream",
          "name": "stdout",
          "text": [
            "CPDs depois do uso do método inference.likelihood_weighted_sample\n",
            "+---------------+----------------------+-----+----------------------+\n",
            "| Pollution     | Pollution(high)      | ... | Pollution(low)       |\n",
            "+---------------+----------------------+-----+----------------------+\n",
            "| Smoker        | Smoker(False)        | ... | Smoker(True)         |\n",
            "+---------------+----------------------+-----+----------------------+\n",
            "| Cancer(False) | 0.9749303621169917   | ... | 0.9702159344750558   |\n",
            "+---------------+----------------------+-----+----------------------+\n",
            "| Cancer(True)  | 0.025069637883008356 | ... | 0.029784065524944156 |\n",
            "+---------------+----------------------+-----+----------------------+\n",
            "+-----------------+---------------------+--------------------+\n",
            "| Cancer          | Cancer(False)       | Cancer(True)       |\n",
            "+-----------------+---------------------+--------------------+\n",
            "| Dyspnoea(False) | 0.6938031591737546  | 0.3225806451612903 |\n",
            "+-----------------+---------------------+--------------------+\n",
            "| Dyspnoea(True)  | 0.30619684082624543 | 0.6774193548387096 |\n",
            "+-----------------+---------------------+--------------------+\n",
            "+-----------------+--------+\n",
            "| Pollution(high) | 0.1024 |\n",
            "+-----------------+--------+\n",
            "| Pollution(low)  | 0.8976 |\n",
            "+-----------------+--------+\n",
            "+---------------+--------+\n",
            "| Smoker(False) | 0.7008 |\n",
            "+---------------+--------+\n",
            "| Smoker(True)  | 0.2992 |\n",
            "+---------------+--------+\n",
            "+----------------+---------------------+---------------------+\n",
            "| Cancer         | Cancer(False)       | Cancer(True)        |\n",
            "+----------------+---------------------+---------------------+\n",
            "| Xray(negative) | 0.8039692183070068  | 0.11290322580645161 |\n",
            "+----------------+---------------------+---------------------+\n",
            "| Xray(positive) | 0.19603078169299312 | 0.8870967741935484  |\n",
            "+----------------+---------------------+---------------------+\n"
          ]
        }
      ]
    },
    {
      "cell_type": "code",
      "source": [
        "# Use a Bayesian estimator with BDeu prior_type to obtain the CPDs tables\n",
        "model.fit(samples, estimator=BayesianEstimator, prior_type=\"BDeu\")\n",
        "for cpd in model.get_cpds():\n",
        "    print(cpd)"
      ],
      "metadata": {
        "colab": {
          "base_uri": "https://localhost:8080/"
        },
        "id": "i1CyByj3iBS0",
        "outputId": "d8691d14-cadc-4e1c-8827-9d1d969d3552"
      },
      "execution_count": 11,
      "outputs": [
        {
          "output_type": "stream",
          "name": "stderr",
          "text": [
            "WARNING:pgmpy:Replacing existing CPD for Pollution\n",
            "WARNING:pgmpy:Replacing existing CPD for Smoker\n",
            "WARNING:pgmpy:Replacing existing CPD for Cancer\n",
            "WARNING:pgmpy:Replacing existing CPD for Xray\n",
            "WARNING:pgmpy:Replacing existing CPD for Dyspnoea\n"
          ]
        },
        {
          "output_type": "stream",
          "name": "stdout",
          "text": [
            "+---------------+----------------------+-----+----------------------+\n",
            "| Pollution     | Pollution(high)      | ... | Pollution(low)       |\n",
            "+---------------+----------------------+-----+----------------------+\n",
            "| Smoker        | Smoker(False)        | ... | Smoker(True)         |\n",
            "+---------------+----------------------+-----+----------------------+\n",
            "| Cancer(False) | 0.9732824427480916   | ... | 0.969778687000186    |\n",
            "+---------------+----------------------+-----+----------------------+\n",
            "| Cancer(True)  | 0.026717557251908396 | ... | 0.030221312999814023 |\n",
            "+---------------+----------------------+-----+----------------------+\n",
            "+-----------------+--------------------+---------------------+\n",
            "| Cancer          | Cancer(False)      | Cancer(True)        |\n",
            "+-----------------+--------------------+---------------------+\n",
            "| Dyspnoea(False) | 0.6937050905778768 | 0.32945736434108525 |\n",
            "+-----------------+--------------------+---------------------+\n",
            "| Dyspnoea(True)  | 0.3062949094221233 | 0.6705426356589147  |\n",
            "+-----------------+--------------------+---------------------+\n",
            "+-----------------+----------+\n",
            "| Pollution(high) | 0.102797 |\n",
            "+-----------------+----------+\n",
            "| Pollution(low)  | 0.897203 |\n",
            "+-----------------+----------+\n",
            "+---------------+----------+\n",
            "| Smoker(False) | 0.700599 |\n",
            "+---------------+----------+\n",
            "| Smoker(True)  | 0.299401 |\n",
            "+---------------+----------+\n",
            "+----------------+--------------------+---------------------+\n",
            "| Cancer         | Cancer(False)      | Cancer(True)        |\n",
            "+----------------+--------------------+---------------------+\n",
            "| Xray(negative) | 0.8038154032992612 | 0.12790697674418605 |\n",
            "+----------------+--------------------+---------------------+\n",
            "| Xray(positive) | 0.1961845967007388 | 0.872093023255814   |\n",
            "+----------------+--------------------+---------------------+\n"
          ]
        }
      ]
    },
    {
      "cell_type": "code",
      "source": [
        "# Use a Bayesian estimator with K2 prior_type to obtain the CPDs tables\n",
        "model.fit(samples, estimator=BayesianEstimator, prior_type=\"K2\")\n",
        "for cpd in model.get_cpds():\n",
        "    print(cpd)"
      ],
      "metadata": {
        "colab": {
          "base_uri": "https://localhost:8080/"
        },
        "id": "qkCx6tSBX0xM",
        "outputId": "5db355e3-bde5-4882-88c8-1630dd5912a5"
      },
      "execution_count": 12,
      "outputs": [
        {
          "output_type": "stream",
          "name": "stderr",
          "text": [
            "WARNING:pgmpy:Replacing existing CPD for Pollution\n",
            "WARNING:pgmpy:Replacing existing CPD for Smoker\n",
            "WARNING:pgmpy:Replacing existing CPD for Cancer\n",
            "WARNING:pgmpy:Replacing existing CPD for Xray\n",
            "WARNING:pgmpy:Replacing existing CPD for Dyspnoea\n"
          ]
        },
        {
          "output_type": "stream",
          "name": "stdout",
          "text": [
            "+---------------+----------------------+-----+----------------------+\n",
            "| Pollution     | Pollution(high)      | ... | Pollution(low)       |\n",
            "+---------------+----------------------+-----+----------------------+\n",
            "| Smoker        | Smoker(False)        | ... | Smoker(True)         |\n",
            "+---------------+----------------------+-----+----------------------+\n",
            "| Cancer(False) | 0.9722991689750693   | ... | 0.9695167286245353   |\n",
            "+---------------+----------------------+-----+----------------------+\n",
            "| Cancer(True)  | 0.027700831024930747 | ... | 0.030483271375464683 |\n",
            "+---------------+----------------------+-----+----------------------+\n",
            "+-----------------+--------------------+--------------+\n",
            "| Cancer          | Cancer(False)      | Cancer(True) |\n",
            "+-----------------+--------------------+--------------+\n",
            "| Dyspnoea(False) | 0.6937246963562753 | 0.328125     |\n",
            "+-----------------+--------------------+--------------+\n",
            "| Dyspnoea(True)  | 0.3062753036437247 | 0.671875     |\n",
            "+-----------------+--------------------+--------------+\n",
            "+-----------------+----------+\n",
            "| Pollution(high) | 0.102559 |\n",
            "+-----------------+----------+\n",
            "| Pollution(low)  | 0.897441 |\n",
            "+-----------------+----------+\n",
            "+---------------+---------+\n",
            "| Smoker(False) | 0.70072 |\n",
            "+---------------+---------+\n",
            "| Smoker(True)  | 0.29928 |\n",
            "+---------------+---------+\n",
            "+----------------+---------------------+--------------+\n",
            "| Cancer         | Cancer(False)       | Cancer(True) |\n",
            "+----------------+---------------------+--------------+\n",
            "| Xray(negative) | 0.8038461538461539  | 0.125        |\n",
            "+----------------+---------------------+--------------+\n",
            "| Xray(positive) | 0.19615384615384615 | 0.875        |\n",
            "+----------------+---------------------+--------------+\n"
          ]
        }
      ]
    },
    {
      "cell_type": "code",
      "source": [
        "bdeu = BDeuScore(samples, equivalent_sample_size=5)\n",
        "k2 = K2Score(samples)\n",
        "bic = BicScore(samples)\n",
        "\n",
        "print(bdeu.score(model))\n",
        "print(k2.score(model))\n",
        "print(bic.score(model))"
      ],
      "metadata": {
        "colab": {
          "base_uri": "https://localhost:8080/"
        },
        "id": "-I6gZJq5iu0V",
        "outputId": "01f4f306-b934-4f05-8aad-2cd55c248f50"
      },
      "execution_count": 13,
      "outputs": [
        {
          "output_type": "stream",
          "name": "stdout",
          "text": [
            "-10568.352920561341\n",
            "-10570.81652649889\n",
            "-10574.292021528956\n"
          ]
        }
      ]
    },
    {
      "cell_type": "code",
      "source": [
        "hc = HillClimbSearch(samples)\n",
        "\n",
        "best_model_Bdeu = hc.estimate(scoring_method=BDeuScore(samples))\n",
        "print(\"### BdeuScore ###\")\n",
        "print(best_model_Bdeu.edges())\n",
        "print(bic.score(best_model_Bdeu))\n",
        "\n",
        "best_model_K2 = hc.estimate(scoring_method=K2Score(samples))\n",
        "print(\"### K2Score ###\")\n",
        "print(best_model_K2.edges())\n",
        "print(bic.score(best_model_K2))\n",
        "\n",
        "best_model_Bic = hc.estimate(scoring_method=BicScore(samples))\n",
        "print(\"### BicScore ###\")\n",
        "print(best_model_Bic.edges())\n",
        "print(bic.score(best_model_Bic))"
      ],
      "metadata": {
        "colab": {
          "base_uri": "https://localhost:8080/",
          "height": 276,
          "referenced_widgets": [
            "4be2db3579374eaa8a2e5b2945373bb7",
            "8bf64ef6f1a24ff9af903cb27c0046b8",
            "f961a13c3db545a690ba51d0aa20841d",
            "ff9e3952b7474695b6c3b6d470af513e",
            "8e7fee29c887425481ef09f06d7ee15f",
            "3d71f72f111c4772bb702f1be579aec5",
            "70489c6ae6c24204bc90b1f7238569bf",
            "070d51f30fd543e884ed1042581413f0",
            "ae2aee2394df4cb8ab49a7698d880e26",
            "5479fb862fc14047950d6c5fa2f29323",
            "a7f4c3dd5a434743be279f8ab522bdfe",
            "2cfe7aa7f47146bc82cbd2d449feb2ca",
            "f452d90f33e941e796603a441452a721",
            "a0e094539a7e44de941ac711b7fa1781",
            "f7e427ab7a8a4a79b938a2c23ee1c45a",
            "5ff796bbc9a74c0292883b034c2f6106",
            "bc6e0ec0f1ee4d209dd8ee9fbacbe752",
            "ecb2ffae2fb946bbb86ec369ff6fcabe",
            "5866e892a0b84e7b9bf3f3478eb0002c",
            "9d12e38a6b944eefb3825a175eeb8cb4",
            "387adfbdfd9b46d283f0e570da3da313",
            "308fc2ac05a64912818f54b22e6d032e",
            "6746e3fd2af64350bcb7d2f515c8abb5",
            "ca0e8ce196e9427fbe6b23f559a9567f",
            "73f00abbec924892a1161b503a0d79d4",
            "d880c48884f9490697719d80b6ccc3cf",
            "286c40576362404d84ee9552e758bd98",
            "384daedf6ae5447cbea98afbe1bd99a1",
            "71640b7acd434a74987e49da37ed3f07",
            "8ee6535fcf6241b481a9d9860f529aec",
            "a2e75116994745e6a80826ee9db2aec2",
            "e4d78d4b59f44c1189e429a8a2b0cde8",
            "32e20f7f7bc0427d818c4dc53ddbd06e"
          ]
        },
        "id": "gy05PHRaVqpN",
        "outputId": "286ff4fa-9067-429d-d739-fc1a403e5c13"
      },
      "execution_count": 14,
      "outputs": [
        {
          "output_type": "display_data",
          "data": {
            "text/plain": [
              "  0%|          | 0/1000000 [00:00<?, ?it/s]"
            ],
            "application/vnd.jupyter.widget-view+json": {
              "version_major": 2,
              "version_minor": 0,
              "model_id": "4be2db3579374eaa8a2e5b2945373bb7"
            }
          },
          "metadata": {}
        },
        {
          "output_type": "stream",
          "name": "stdout",
          "text": [
            "### BdeuScore ###\n",
            "[('Pollution', 'Cancer'), ('Smoker', 'Cancer'), ('Cancer', 'Xray'), ('Cancer', 'Dyspnoea')]\n",
            "-10574.292021528956\n"
          ]
        },
        {
          "output_type": "display_data",
          "data": {
            "text/plain": [
              "  0%|          | 0/1000000 [00:00<?, ?it/s]"
            ],
            "application/vnd.jupyter.widget-view+json": {
              "version_major": 2,
              "version_minor": 0,
              "model_id": "2cfe7aa7f47146bc82cbd2d449feb2ca"
            }
          },
          "metadata": {}
        },
        {
          "output_type": "stream",
          "name": "stdout",
          "text": [
            "### K2Score ###\n",
            "[('Pollution', 'Smoker'), ('Cancer', 'Xray'), ('Cancer', 'Smoker'), ('Cancer', 'Dyspnoea'), ('Cancer', 'Pollution')]\n",
            "-10578.550429982204\n"
          ]
        },
        {
          "output_type": "display_data",
          "data": {
            "text/plain": [
              "  0%|          | 0/1000000 [00:00<?, ?it/s]"
            ],
            "application/vnd.jupyter.widget-view+json": {
              "version_major": 2,
              "version_minor": 0,
              "model_id": "6746e3fd2af64350bcb7d2f515c8abb5"
            }
          },
          "metadata": {}
        },
        {
          "output_type": "stream",
          "name": "stdout",
          "text": [
            "### BicScore ###\n",
            "[('Cancer', 'Xray'), ('Cancer', 'Smoker'), ('Cancer', 'Dyspnoea'), ('Cancer', 'Pollution')]\n",
            "-10576.481645286594\n"
          ]
        }
      ]
    }
  ],
  "metadata": {
    "kernelspec": {
      "display_name": "Python 3",
      "language": "python",
      "name": "python3"
    },
    "language_info": {
      "codemirror_mode": {
        "name": "ipython",
        "version": 3
      },
      "file_extension": ".py",
      "mimetype": "text/x-python",
      "name": "python",
      "nbconvert_exporter": "python",
      "pygments_lexer": "ipython3",
      "version": "3.8.10"
    },
    "colab": {
      "provenance": []
    },
    "widgets": {
      "application/vnd.jupyter.widget-state+json": {
        "a66a032d5d3c4830b15ce060c90ab227": {
          "model_module": "@jupyter-widgets/controls",
          "model_name": "HBoxModel",
          "model_module_version": "1.5.0",
          "state": {
            "_dom_classes": [],
            "_model_module": "@jupyter-widgets/controls",
            "_model_module_version": "1.5.0",
            "_model_name": "HBoxModel",
            "_view_count": null,
            "_view_module": "@jupyter-widgets/controls",
            "_view_module_version": "1.5.0",
            "_view_name": "HBoxView",
            "box_style": "",
            "children": [
              "IPY_MODEL_dbb417d130994937a7e975ec0c998efc",
              "IPY_MODEL_273288aa082d431d84384e484fe4acf7",
              "IPY_MODEL_3c093cb9df62432eb8defaa97d7b4d89"
            ],
            "layout": "IPY_MODEL_27464675a85148ed91c5a52d00d2009e"
          }
        },
        "dbb417d130994937a7e975ec0c998efc": {
          "model_module": "@jupyter-widgets/controls",
          "model_name": "HTMLModel",
          "model_module_version": "1.5.0",
          "state": {
            "_dom_classes": [],
            "_model_module": "@jupyter-widgets/controls",
            "_model_module_version": "1.5.0",
            "_model_name": "HTMLModel",
            "_view_count": null,
            "_view_module": "@jupyter-widgets/controls",
            "_view_module_version": "1.5.0",
            "_view_name": "HTMLView",
            "description": "",
            "description_tooltip": null,
            "layout": "IPY_MODEL_f82a6bb090814b4f84b76e1ee5df99e9",
            "placeholder": "​",
            "style": "IPY_MODEL_b8582d991d7f4caf9843d6f0039782b6",
            "value": "  0%"
          }
        },
        "273288aa082d431d84384e484fe4acf7": {
          "model_module": "@jupyter-widgets/controls",
          "model_name": "FloatProgressModel",
          "model_module_version": "1.5.0",
          "state": {
            "_dom_classes": [],
            "_model_module": "@jupyter-widgets/controls",
            "_model_module_version": "1.5.0",
            "_model_name": "FloatProgressModel",
            "_view_count": null,
            "_view_module": "@jupyter-widgets/controls",
            "_view_module_version": "1.5.0",
            "_view_name": "ProgressView",
            "bar_style": "danger",
            "description": "",
            "description_tooltip": null,
            "layout": "IPY_MODEL_56a52b15ab1f48ba9d0828912aceb70e",
            "max": 1000000,
            "min": 0,
            "orientation": "horizontal",
            "style": "IPY_MODEL_44a27d834f184b5f99d1bd397c8e1935",
            "value": 5
          }
        },
        "3c093cb9df62432eb8defaa97d7b4d89": {
          "model_module": "@jupyter-widgets/controls",
          "model_name": "HTMLModel",
          "model_module_version": "1.5.0",
          "state": {
            "_dom_classes": [],
            "_model_module": "@jupyter-widgets/controls",
            "_model_module_version": "1.5.0",
            "_model_name": "HTMLModel",
            "_view_count": null,
            "_view_module": "@jupyter-widgets/controls",
            "_view_module_version": "1.5.0",
            "_view_name": "HTMLView",
            "description": "",
            "description_tooltip": null,
            "layout": "IPY_MODEL_e00aee29c89145b5986a14329994e125",
            "placeholder": "​",
            "style": "IPY_MODEL_1b202477a6b147beb13a0e2770a9b559",
            "value": " 5/1000000 [00:00&lt;30:48:37,  9.02it/s]"
          }
        },
        "27464675a85148ed91c5a52d00d2009e": {
          "model_module": "@jupyter-widgets/base",
          "model_name": "LayoutModel",
          "model_module_version": "1.2.0",
          "state": {
            "_model_module": "@jupyter-widgets/base",
            "_model_module_version": "1.2.0",
            "_model_name": "LayoutModel",
            "_view_count": null,
            "_view_module": "@jupyter-widgets/base",
            "_view_module_version": "1.2.0",
            "_view_name": "LayoutView",
            "align_content": null,
            "align_items": null,
            "align_self": null,
            "border": null,
            "bottom": null,
            "display": null,
            "flex": null,
            "flex_flow": null,
            "grid_area": null,
            "grid_auto_columns": null,
            "grid_auto_flow": null,
            "grid_auto_rows": null,
            "grid_column": null,
            "grid_gap": null,
            "grid_row": null,
            "grid_template_areas": null,
            "grid_template_columns": null,
            "grid_template_rows": null,
            "height": null,
            "justify_content": null,
            "justify_items": null,
            "left": null,
            "margin": null,
            "max_height": null,
            "max_width": null,
            "min_height": null,
            "min_width": null,
            "object_fit": null,
            "object_position": null,
            "order": null,
            "overflow": null,
            "overflow_x": null,
            "overflow_y": null,
            "padding": null,
            "right": null,
            "top": null,
            "visibility": null,
            "width": null
          }
        },
        "f82a6bb090814b4f84b76e1ee5df99e9": {
          "model_module": "@jupyter-widgets/base",
          "model_name": "LayoutModel",
          "model_module_version": "1.2.0",
          "state": {
            "_model_module": "@jupyter-widgets/base",
            "_model_module_version": "1.2.0",
            "_model_name": "LayoutModel",
            "_view_count": null,
            "_view_module": "@jupyter-widgets/base",
            "_view_module_version": "1.2.0",
            "_view_name": "LayoutView",
            "align_content": null,
            "align_items": null,
            "align_self": null,
            "border": null,
            "bottom": null,
            "display": null,
            "flex": null,
            "flex_flow": null,
            "grid_area": null,
            "grid_auto_columns": null,
            "grid_auto_flow": null,
            "grid_auto_rows": null,
            "grid_column": null,
            "grid_gap": null,
            "grid_row": null,
            "grid_template_areas": null,
            "grid_template_columns": null,
            "grid_template_rows": null,
            "height": null,
            "justify_content": null,
            "justify_items": null,
            "left": null,
            "margin": null,
            "max_height": null,
            "max_width": null,
            "min_height": null,
            "min_width": null,
            "object_fit": null,
            "object_position": null,
            "order": null,
            "overflow": null,
            "overflow_x": null,
            "overflow_y": null,
            "padding": null,
            "right": null,
            "top": null,
            "visibility": null,
            "width": null
          }
        },
        "b8582d991d7f4caf9843d6f0039782b6": {
          "model_module": "@jupyter-widgets/controls",
          "model_name": "DescriptionStyleModel",
          "model_module_version": "1.5.0",
          "state": {
            "_model_module": "@jupyter-widgets/controls",
            "_model_module_version": "1.5.0",
            "_model_name": "DescriptionStyleModel",
            "_view_count": null,
            "_view_module": "@jupyter-widgets/base",
            "_view_module_version": "1.2.0",
            "_view_name": "StyleView",
            "description_width": ""
          }
        },
        "56a52b15ab1f48ba9d0828912aceb70e": {
          "model_module": "@jupyter-widgets/base",
          "model_name": "LayoutModel",
          "model_module_version": "1.2.0",
          "state": {
            "_model_module": "@jupyter-widgets/base",
            "_model_module_version": "1.2.0",
            "_model_name": "LayoutModel",
            "_view_count": null,
            "_view_module": "@jupyter-widgets/base",
            "_view_module_version": "1.2.0",
            "_view_name": "LayoutView",
            "align_content": null,
            "align_items": null,
            "align_self": null,
            "border": null,
            "bottom": null,
            "display": null,
            "flex": null,
            "flex_flow": null,
            "grid_area": null,
            "grid_auto_columns": null,
            "grid_auto_flow": null,
            "grid_auto_rows": null,
            "grid_column": null,
            "grid_gap": null,
            "grid_row": null,
            "grid_template_areas": null,
            "grid_template_columns": null,
            "grid_template_rows": null,
            "height": null,
            "justify_content": null,
            "justify_items": null,
            "left": null,
            "margin": null,
            "max_height": null,
            "max_width": null,
            "min_height": null,
            "min_width": null,
            "object_fit": null,
            "object_position": null,
            "order": null,
            "overflow": null,
            "overflow_x": null,
            "overflow_y": null,
            "padding": null,
            "right": null,
            "top": null,
            "visibility": null,
            "width": null
          }
        },
        "44a27d834f184b5f99d1bd397c8e1935": {
          "model_module": "@jupyter-widgets/controls",
          "model_name": "ProgressStyleModel",
          "model_module_version": "1.5.0",
          "state": {
            "_model_module": "@jupyter-widgets/controls",
            "_model_module_version": "1.5.0",
            "_model_name": "ProgressStyleModel",
            "_view_count": null,
            "_view_module": "@jupyter-widgets/base",
            "_view_module_version": "1.2.0",
            "_view_name": "StyleView",
            "bar_color": null,
            "description_width": ""
          }
        },
        "e00aee29c89145b5986a14329994e125": {
          "model_module": "@jupyter-widgets/base",
          "model_name": "LayoutModel",
          "model_module_version": "1.2.0",
          "state": {
            "_model_module": "@jupyter-widgets/base",
            "_model_module_version": "1.2.0",
            "_model_name": "LayoutModel",
            "_view_count": null,
            "_view_module": "@jupyter-widgets/base",
            "_view_module_version": "1.2.0",
            "_view_name": "LayoutView",
            "align_content": null,
            "align_items": null,
            "align_self": null,
            "border": null,
            "bottom": null,
            "display": null,
            "flex": null,
            "flex_flow": null,
            "grid_area": null,
            "grid_auto_columns": null,
            "grid_auto_flow": null,
            "grid_auto_rows": null,
            "grid_column": null,
            "grid_gap": null,
            "grid_row": null,
            "grid_template_areas": null,
            "grid_template_columns": null,
            "grid_template_rows": null,
            "height": null,
            "justify_content": null,
            "justify_items": null,
            "left": null,
            "margin": null,
            "max_height": null,
            "max_width": null,
            "min_height": null,
            "min_width": null,
            "object_fit": null,
            "object_position": null,
            "order": null,
            "overflow": null,
            "overflow_x": null,
            "overflow_y": null,
            "padding": null,
            "right": null,
            "top": null,
            "visibility": null,
            "width": null
          }
        },
        "1b202477a6b147beb13a0e2770a9b559": {
          "model_module": "@jupyter-widgets/controls",
          "model_name": "DescriptionStyleModel",
          "model_module_version": "1.5.0",
          "state": {
            "_model_module": "@jupyter-widgets/controls",
            "_model_module_version": "1.5.0",
            "_model_name": "DescriptionStyleModel",
            "_view_count": null,
            "_view_module": "@jupyter-widgets/base",
            "_view_module_version": "1.2.0",
            "_view_name": "StyleView",
            "description_width": ""
          }
        },
        "3b9a653790104e80b3016d7945d4b914": {
          "model_module": "@jupyter-widgets/controls",
          "model_name": "HBoxModel",
          "model_module_version": "1.5.0",
          "state": {
            "_dom_classes": [],
            "_model_module": "@jupyter-widgets/controls",
            "_model_module_version": "1.5.0",
            "_model_name": "HBoxModel",
            "_view_count": null,
            "_view_module": "@jupyter-widgets/controls",
            "_view_module_version": "1.5.0",
            "_view_name": "HBoxView",
            "box_style": "",
            "children": [
              "IPY_MODEL_d861483e49ec4c07803e61c4b8b9dfbd",
              "IPY_MODEL_f0be2b54dcef483c973899136076400c",
              "IPY_MODEL_8af57dfc2dc2430ebd94b63f42c32477"
            ],
            "layout": "IPY_MODEL_6243a06f6a324398a883627de90049ee"
          }
        },
        "d861483e49ec4c07803e61c4b8b9dfbd": {
          "model_module": "@jupyter-widgets/controls",
          "model_name": "HTMLModel",
          "model_module_version": "1.5.0",
          "state": {
            "_dom_classes": [],
            "_model_module": "@jupyter-widgets/controls",
            "_model_module_version": "1.5.0",
            "_model_name": "HTMLModel",
            "_view_count": null,
            "_view_module": "@jupyter-widgets/controls",
            "_view_module_version": "1.5.0",
            "_view_name": "HTMLView",
            "description": "",
            "description_tooltip": null,
            "layout": "IPY_MODEL_3f5c213fa52e44d9954d0e78b3354956",
            "placeholder": "​",
            "style": "IPY_MODEL_9686481959aa4322982c12c6911d2983",
            "value": "Generating for node: Dyspnoea: 100%"
          }
        },
        "f0be2b54dcef483c973899136076400c": {
          "model_module": "@jupyter-widgets/controls",
          "model_name": "FloatProgressModel",
          "model_module_version": "1.5.0",
          "state": {
            "_dom_classes": [],
            "_model_module": "@jupyter-widgets/controls",
            "_model_module_version": "1.5.0",
            "_model_name": "FloatProgressModel",
            "_view_count": null,
            "_view_module": "@jupyter-widgets/controls",
            "_view_module_version": "1.5.0",
            "_view_name": "ProgressView",
            "bar_style": "success",
            "description": "",
            "description_tooltip": null,
            "layout": "IPY_MODEL_d1c8ef724a204e20a3349eff875b1c02",
            "max": 5,
            "min": 0,
            "orientation": "horizontal",
            "style": "IPY_MODEL_f32491e511cd4e74b9b2fa62b18617b4",
            "value": 5
          }
        },
        "8af57dfc2dc2430ebd94b63f42c32477": {
          "model_module": "@jupyter-widgets/controls",
          "model_name": "HTMLModel",
          "model_module_version": "1.5.0",
          "state": {
            "_dom_classes": [],
            "_model_module": "@jupyter-widgets/controls",
            "_model_module_version": "1.5.0",
            "_model_name": "HTMLModel",
            "_view_count": null,
            "_view_module": "@jupyter-widgets/controls",
            "_view_module_version": "1.5.0",
            "_view_name": "HTMLView",
            "description": "",
            "description_tooltip": null,
            "layout": "IPY_MODEL_1b9b5461078d406aaa6d2dee6f22e4f8",
            "placeholder": "​",
            "style": "IPY_MODEL_9a4865015fbe4140b14402e07394b943",
            "value": " 5/5 [00:00&lt;00:00,  6.75it/s]"
          }
        },
        "6243a06f6a324398a883627de90049ee": {
          "model_module": "@jupyter-widgets/base",
          "model_name": "LayoutModel",
          "model_module_version": "1.2.0",
          "state": {
            "_model_module": "@jupyter-widgets/base",
            "_model_module_version": "1.2.0",
            "_model_name": "LayoutModel",
            "_view_count": null,
            "_view_module": "@jupyter-widgets/base",
            "_view_module_version": "1.2.0",
            "_view_name": "LayoutView",
            "align_content": null,
            "align_items": null,
            "align_self": null,
            "border": null,
            "bottom": null,
            "display": null,
            "flex": null,
            "flex_flow": null,
            "grid_area": null,
            "grid_auto_columns": null,
            "grid_auto_flow": null,
            "grid_auto_rows": null,
            "grid_column": null,
            "grid_gap": null,
            "grid_row": null,
            "grid_template_areas": null,
            "grid_template_columns": null,
            "grid_template_rows": null,
            "height": null,
            "justify_content": null,
            "justify_items": null,
            "left": null,
            "margin": null,
            "max_height": null,
            "max_width": null,
            "min_height": null,
            "min_width": null,
            "object_fit": null,
            "object_position": null,
            "order": null,
            "overflow": null,
            "overflow_x": null,
            "overflow_y": null,
            "padding": null,
            "right": null,
            "top": null,
            "visibility": null,
            "width": null
          }
        },
        "3f5c213fa52e44d9954d0e78b3354956": {
          "model_module": "@jupyter-widgets/base",
          "model_name": "LayoutModel",
          "model_module_version": "1.2.0",
          "state": {
            "_model_module": "@jupyter-widgets/base",
            "_model_module_version": "1.2.0",
            "_model_name": "LayoutModel",
            "_view_count": null,
            "_view_module": "@jupyter-widgets/base",
            "_view_module_version": "1.2.0",
            "_view_name": "LayoutView",
            "align_content": null,
            "align_items": null,
            "align_self": null,
            "border": null,
            "bottom": null,
            "display": null,
            "flex": null,
            "flex_flow": null,
            "grid_area": null,
            "grid_auto_columns": null,
            "grid_auto_flow": null,
            "grid_auto_rows": null,
            "grid_column": null,
            "grid_gap": null,
            "grid_row": null,
            "grid_template_areas": null,
            "grid_template_columns": null,
            "grid_template_rows": null,
            "height": null,
            "justify_content": null,
            "justify_items": null,
            "left": null,
            "margin": null,
            "max_height": null,
            "max_width": null,
            "min_height": null,
            "min_width": null,
            "object_fit": null,
            "object_position": null,
            "order": null,
            "overflow": null,
            "overflow_x": null,
            "overflow_y": null,
            "padding": null,
            "right": null,
            "top": null,
            "visibility": null,
            "width": null
          }
        },
        "9686481959aa4322982c12c6911d2983": {
          "model_module": "@jupyter-widgets/controls",
          "model_name": "DescriptionStyleModel",
          "model_module_version": "1.5.0",
          "state": {
            "_model_module": "@jupyter-widgets/controls",
            "_model_module_version": "1.5.0",
            "_model_name": "DescriptionStyleModel",
            "_view_count": null,
            "_view_module": "@jupyter-widgets/base",
            "_view_module_version": "1.2.0",
            "_view_name": "StyleView",
            "description_width": ""
          }
        },
        "d1c8ef724a204e20a3349eff875b1c02": {
          "model_module": "@jupyter-widgets/base",
          "model_name": "LayoutModel",
          "model_module_version": "1.2.0",
          "state": {
            "_model_module": "@jupyter-widgets/base",
            "_model_module_version": "1.2.0",
            "_model_name": "LayoutModel",
            "_view_count": null,
            "_view_module": "@jupyter-widgets/base",
            "_view_module_version": "1.2.0",
            "_view_name": "LayoutView",
            "align_content": null,
            "align_items": null,
            "align_self": null,
            "border": null,
            "bottom": null,
            "display": null,
            "flex": null,
            "flex_flow": null,
            "grid_area": null,
            "grid_auto_columns": null,
            "grid_auto_flow": null,
            "grid_auto_rows": null,
            "grid_column": null,
            "grid_gap": null,
            "grid_row": null,
            "grid_template_areas": null,
            "grid_template_columns": null,
            "grid_template_rows": null,
            "height": null,
            "justify_content": null,
            "justify_items": null,
            "left": null,
            "margin": null,
            "max_height": null,
            "max_width": null,
            "min_height": null,
            "min_width": null,
            "object_fit": null,
            "object_position": null,
            "order": null,
            "overflow": null,
            "overflow_x": null,
            "overflow_y": null,
            "padding": null,
            "right": null,
            "top": null,
            "visibility": null,
            "width": null
          }
        },
        "f32491e511cd4e74b9b2fa62b18617b4": {
          "model_module": "@jupyter-widgets/controls",
          "model_name": "ProgressStyleModel",
          "model_module_version": "1.5.0",
          "state": {
            "_model_module": "@jupyter-widgets/controls",
            "_model_module_version": "1.5.0",
            "_model_name": "ProgressStyleModel",
            "_view_count": null,
            "_view_module": "@jupyter-widgets/base",
            "_view_module_version": "1.2.0",
            "_view_name": "StyleView",
            "bar_color": null,
            "description_width": ""
          }
        },
        "1b9b5461078d406aaa6d2dee6f22e4f8": {
          "model_module": "@jupyter-widgets/base",
          "model_name": "LayoutModel",
          "model_module_version": "1.2.0",
          "state": {
            "_model_module": "@jupyter-widgets/base",
            "_model_module_version": "1.2.0",
            "_model_name": "LayoutModel",
            "_view_count": null,
            "_view_module": "@jupyter-widgets/base",
            "_view_module_version": "1.2.0",
            "_view_name": "LayoutView",
            "align_content": null,
            "align_items": null,
            "align_self": null,
            "border": null,
            "bottom": null,
            "display": null,
            "flex": null,
            "flex_flow": null,
            "grid_area": null,
            "grid_auto_columns": null,
            "grid_auto_flow": null,
            "grid_auto_rows": null,
            "grid_column": null,
            "grid_gap": null,
            "grid_row": null,
            "grid_template_areas": null,
            "grid_template_columns": null,
            "grid_template_rows": null,
            "height": null,
            "justify_content": null,
            "justify_items": null,
            "left": null,
            "margin": null,
            "max_height": null,
            "max_width": null,
            "min_height": null,
            "min_width": null,
            "object_fit": null,
            "object_position": null,
            "order": null,
            "overflow": null,
            "overflow_x": null,
            "overflow_y": null,
            "padding": null,
            "right": null,
            "top": null,
            "visibility": null,
            "width": null
          }
        },
        "9a4865015fbe4140b14402e07394b943": {
          "model_module": "@jupyter-widgets/controls",
          "model_name": "DescriptionStyleModel",
          "model_module_version": "1.5.0",
          "state": {
            "_model_module": "@jupyter-widgets/controls",
            "_model_module_version": "1.5.0",
            "_model_name": "DescriptionStyleModel",
            "_view_count": null,
            "_view_module": "@jupyter-widgets/base",
            "_view_module_version": "1.2.0",
            "_view_name": "StyleView",
            "description_width": ""
          }
        },
        "4be2db3579374eaa8a2e5b2945373bb7": {
          "model_module": "@jupyter-widgets/controls",
          "model_name": "HBoxModel",
          "model_module_version": "1.5.0",
          "state": {
            "_dom_classes": [],
            "_model_module": "@jupyter-widgets/controls",
            "_model_module_version": "1.5.0",
            "_model_name": "HBoxModel",
            "_view_count": null,
            "_view_module": "@jupyter-widgets/controls",
            "_view_module_version": "1.5.0",
            "_view_name": "HBoxView",
            "box_style": "",
            "children": [
              "IPY_MODEL_8bf64ef6f1a24ff9af903cb27c0046b8",
              "IPY_MODEL_f961a13c3db545a690ba51d0aa20841d",
              "IPY_MODEL_ff9e3952b7474695b6c3b6d470af513e"
            ],
            "layout": "IPY_MODEL_8e7fee29c887425481ef09f06d7ee15f"
          }
        },
        "8bf64ef6f1a24ff9af903cb27c0046b8": {
          "model_module": "@jupyter-widgets/controls",
          "model_name": "HTMLModel",
          "model_module_version": "1.5.0",
          "state": {
            "_dom_classes": [],
            "_model_module": "@jupyter-widgets/controls",
            "_model_module_version": "1.5.0",
            "_model_name": "HTMLModel",
            "_view_count": null,
            "_view_module": "@jupyter-widgets/controls",
            "_view_module_version": "1.5.0",
            "_view_name": "HTMLView",
            "description": "",
            "description_tooltip": null,
            "layout": "IPY_MODEL_3d71f72f111c4772bb702f1be579aec5",
            "placeholder": "​",
            "style": "IPY_MODEL_70489c6ae6c24204bc90b1f7238569bf",
            "value": "  0%"
          }
        },
        "f961a13c3db545a690ba51d0aa20841d": {
          "model_module": "@jupyter-widgets/controls",
          "model_name": "FloatProgressModel",
          "model_module_version": "1.5.0",
          "state": {
            "_dom_classes": [],
            "_model_module": "@jupyter-widgets/controls",
            "_model_module_version": "1.5.0",
            "_model_name": "FloatProgressModel",
            "_view_count": null,
            "_view_module": "@jupyter-widgets/controls",
            "_view_module_version": "1.5.0",
            "_view_name": "ProgressView",
            "bar_style": "danger",
            "description": "",
            "description_tooltip": null,
            "layout": "IPY_MODEL_070d51f30fd543e884ed1042581413f0",
            "max": 1000000,
            "min": 0,
            "orientation": "horizontal",
            "style": "IPY_MODEL_ae2aee2394df4cb8ab49a7698d880e26",
            "value": 4
          }
        },
        "ff9e3952b7474695b6c3b6d470af513e": {
          "model_module": "@jupyter-widgets/controls",
          "model_name": "HTMLModel",
          "model_module_version": "1.5.0",
          "state": {
            "_dom_classes": [],
            "_model_module": "@jupyter-widgets/controls",
            "_model_module_version": "1.5.0",
            "_model_name": "HTMLModel",
            "_view_count": null,
            "_view_module": "@jupyter-widgets/controls",
            "_view_module_version": "1.5.0",
            "_view_name": "HTMLView",
            "description": "",
            "description_tooltip": null,
            "layout": "IPY_MODEL_5479fb862fc14047950d6c5fa2f29323",
            "placeholder": "​",
            "style": "IPY_MODEL_a7f4c3dd5a434743be279f8ab522bdfe",
            "value": " 4/1000000 [00:00&lt;23:29:55, 11.82it/s]"
          }
        },
        "8e7fee29c887425481ef09f06d7ee15f": {
          "model_module": "@jupyter-widgets/base",
          "model_name": "LayoutModel",
          "model_module_version": "1.2.0",
          "state": {
            "_model_module": "@jupyter-widgets/base",
            "_model_module_version": "1.2.0",
            "_model_name": "LayoutModel",
            "_view_count": null,
            "_view_module": "@jupyter-widgets/base",
            "_view_module_version": "1.2.0",
            "_view_name": "LayoutView",
            "align_content": null,
            "align_items": null,
            "align_self": null,
            "border": null,
            "bottom": null,
            "display": null,
            "flex": null,
            "flex_flow": null,
            "grid_area": null,
            "grid_auto_columns": null,
            "grid_auto_flow": null,
            "grid_auto_rows": null,
            "grid_column": null,
            "grid_gap": null,
            "grid_row": null,
            "grid_template_areas": null,
            "grid_template_columns": null,
            "grid_template_rows": null,
            "height": null,
            "justify_content": null,
            "justify_items": null,
            "left": null,
            "margin": null,
            "max_height": null,
            "max_width": null,
            "min_height": null,
            "min_width": null,
            "object_fit": null,
            "object_position": null,
            "order": null,
            "overflow": null,
            "overflow_x": null,
            "overflow_y": null,
            "padding": null,
            "right": null,
            "top": null,
            "visibility": null,
            "width": null
          }
        },
        "3d71f72f111c4772bb702f1be579aec5": {
          "model_module": "@jupyter-widgets/base",
          "model_name": "LayoutModel",
          "model_module_version": "1.2.0",
          "state": {
            "_model_module": "@jupyter-widgets/base",
            "_model_module_version": "1.2.0",
            "_model_name": "LayoutModel",
            "_view_count": null,
            "_view_module": "@jupyter-widgets/base",
            "_view_module_version": "1.2.0",
            "_view_name": "LayoutView",
            "align_content": null,
            "align_items": null,
            "align_self": null,
            "border": null,
            "bottom": null,
            "display": null,
            "flex": null,
            "flex_flow": null,
            "grid_area": null,
            "grid_auto_columns": null,
            "grid_auto_flow": null,
            "grid_auto_rows": null,
            "grid_column": null,
            "grid_gap": null,
            "grid_row": null,
            "grid_template_areas": null,
            "grid_template_columns": null,
            "grid_template_rows": null,
            "height": null,
            "justify_content": null,
            "justify_items": null,
            "left": null,
            "margin": null,
            "max_height": null,
            "max_width": null,
            "min_height": null,
            "min_width": null,
            "object_fit": null,
            "object_position": null,
            "order": null,
            "overflow": null,
            "overflow_x": null,
            "overflow_y": null,
            "padding": null,
            "right": null,
            "top": null,
            "visibility": null,
            "width": null
          }
        },
        "70489c6ae6c24204bc90b1f7238569bf": {
          "model_module": "@jupyter-widgets/controls",
          "model_name": "DescriptionStyleModel",
          "model_module_version": "1.5.0",
          "state": {
            "_model_module": "@jupyter-widgets/controls",
            "_model_module_version": "1.5.0",
            "_model_name": "DescriptionStyleModel",
            "_view_count": null,
            "_view_module": "@jupyter-widgets/base",
            "_view_module_version": "1.2.0",
            "_view_name": "StyleView",
            "description_width": ""
          }
        },
        "070d51f30fd543e884ed1042581413f0": {
          "model_module": "@jupyter-widgets/base",
          "model_name": "LayoutModel",
          "model_module_version": "1.2.0",
          "state": {
            "_model_module": "@jupyter-widgets/base",
            "_model_module_version": "1.2.0",
            "_model_name": "LayoutModel",
            "_view_count": null,
            "_view_module": "@jupyter-widgets/base",
            "_view_module_version": "1.2.0",
            "_view_name": "LayoutView",
            "align_content": null,
            "align_items": null,
            "align_self": null,
            "border": null,
            "bottom": null,
            "display": null,
            "flex": null,
            "flex_flow": null,
            "grid_area": null,
            "grid_auto_columns": null,
            "grid_auto_flow": null,
            "grid_auto_rows": null,
            "grid_column": null,
            "grid_gap": null,
            "grid_row": null,
            "grid_template_areas": null,
            "grid_template_columns": null,
            "grid_template_rows": null,
            "height": null,
            "justify_content": null,
            "justify_items": null,
            "left": null,
            "margin": null,
            "max_height": null,
            "max_width": null,
            "min_height": null,
            "min_width": null,
            "object_fit": null,
            "object_position": null,
            "order": null,
            "overflow": null,
            "overflow_x": null,
            "overflow_y": null,
            "padding": null,
            "right": null,
            "top": null,
            "visibility": null,
            "width": null
          }
        },
        "ae2aee2394df4cb8ab49a7698d880e26": {
          "model_module": "@jupyter-widgets/controls",
          "model_name": "ProgressStyleModel",
          "model_module_version": "1.5.0",
          "state": {
            "_model_module": "@jupyter-widgets/controls",
            "_model_module_version": "1.5.0",
            "_model_name": "ProgressStyleModel",
            "_view_count": null,
            "_view_module": "@jupyter-widgets/base",
            "_view_module_version": "1.2.0",
            "_view_name": "StyleView",
            "bar_color": null,
            "description_width": ""
          }
        },
        "5479fb862fc14047950d6c5fa2f29323": {
          "model_module": "@jupyter-widgets/base",
          "model_name": "LayoutModel",
          "model_module_version": "1.2.0",
          "state": {
            "_model_module": "@jupyter-widgets/base",
            "_model_module_version": "1.2.0",
            "_model_name": "LayoutModel",
            "_view_count": null,
            "_view_module": "@jupyter-widgets/base",
            "_view_module_version": "1.2.0",
            "_view_name": "LayoutView",
            "align_content": null,
            "align_items": null,
            "align_self": null,
            "border": null,
            "bottom": null,
            "display": null,
            "flex": null,
            "flex_flow": null,
            "grid_area": null,
            "grid_auto_columns": null,
            "grid_auto_flow": null,
            "grid_auto_rows": null,
            "grid_column": null,
            "grid_gap": null,
            "grid_row": null,
            "grid_template_areas": null,
            "grid_template_columns": null,
            "grid_template_rows": null,
            "height": null,
            "justify_content": null,
            "justify_items": null,
            "left": null,
            "margin": null,
            "max_height": null,
            "max_width": null,
            "min_height": null,
            "min_width": null,
            "object_fit": null,
            "object_position": null,
            "order": null,
            "overflow": null,
            "overflow_x": null,
            "overflow_y": null,
            "padding": null,
            "right": null,
            "top": null,
            "visibility": null,
            "width": null
          }
        },
        "a7f4c3dd5a434743be279f8ab522bdfe": {
          "model_module": "@jupyter-widgets/controls",
          "model_name": "DescriptionStyleModel",
          "model_module_version": "1.5.0",
          "state": {
            "_model_module": "@jupyter-widgets/controls",
            "_model_module_version": "1.5.0",
            "_model_name": "DescriptionStyleModel",
            "_view_count": null,
            "_view_module": "@jupyter-widgets/base",
            "_view_module_version": "1.2.0",
            "_view_name": "StyleView",
            "description_width": ""
          }
        },
        "2cfe7aa7f47146bc82cbd2d449feb2ca": {
          "model_module": "@jupyter-widgets/controls",
          "model_name": "HBoxModel",
          "model_module_version": "1.5.0",
          "state": {
            "_dom_classes": [],
            "_model_module": "@jupyter-widgets/controls",
            "_model_module_version": "1.5.0",
            "_model_name": "HBoxModel",
            "_view_count": null,
            "_view_module": "@jupyter-widgets/controls",
            "_view_module_version": "1.5.0",
            "_view_name": "HBoxView",
            "box_style": "",
            "children": [
              "IPY_MODEL_f452d90f33e941e796603a441452a721",
              "IPY_MODEL_a0e094539a7e44de941ac711b7fa1781",
              "IPY_MODEL_f7e427ab7a8a4a79b938a2c23ee1c45a"
            ],
            "layout": "IPY_MODEL_5ff796bbc9a74c0292883b034c2f6106"
          }
        },
        "f452d90f33e941e796603a441452a721": {
          "model_module": "@jupyter-widgets/controls",
          "model_name": "HTMLModel",
          "model_module_version": "1.5.0",
          "state": {
            "_dom_classes": [],
            "_model_module": "@jupyter-widgets/controls",
            "_model_module_version": "1.5.0",
            "_model_name": "HTMLModel",
            "_view_count": null,
            "_view_module": "@jupyter-widgets/controls",
            "_view_module_version": "1.5.0",
            "_view_name": "HTMLView",
            "description": "",
            "description_tooltip": null,
            "layout": "IPY_MODEL_bc6e0ec0f1ee4d209dd8ee9fbacbe752",
            "placeholder": "​",
            "style": "IPY_MODEL_ecb2ffae2fb946bbb86ec369ff6fcabe",
            "value": "  0%"
          }
        },
        "a0e094539a7e44de941ac711b7fa1781": {
          "model_module": "@jupyter-widgets/controls",
          "model_name": "FloatProgressModel",
          "model_module_version": "1.5.0",
          "state": {
            "_dom_classes": [],
            "_model_module": "@jupyter-widgets/controls",
            "_model_module_version": "1.5.0",
            "_model_name": "FloatProgressModel",
            "_view_count": null,
            "_view_module": "@jupyter-widgets/controls",
            "_view_module_version": "1.5.0",
            "_view_name": "ProgressView",
            "bar_style": "danger",
            "description": "",
            "description_tooltip": null,
            "layout": "IPY_MODEL_5866e892a0b84e7b9bf3f3478eb0002c",
            "max": 1000000,
            "min": 0,
            "orientation": "horizontal",
            "style": "IPY_MODEL_9d12e38a6b944eefb3825a175eeb8cb4",
            "value": 5
          }
        },
        "f7e427ab7a8a4a79b938a2c23ee1c45a": {
          "model_module": "@jupyter-widgets/controls",
          "model_name": "HTMLModel",
          "model_module_version": "1.5.0",
          "state": {
            "_dom_classes": [],
            "_model_module": "@jupyter-widgets/controls",
            "_model_module_version": "1.5.0",
            "_model_name": "HTMLModel",
            "_view_count": null,
            "_view_module": "@jupyter-widgets/controls",
            "_view_module_version": "1.5.0",
            "_view_name": "HTMLView",
            "description": "",
            "description_tooltip": null,
            "layout": "IPY_MODEL_387adfbdfd9b46d283f0e570da3da313",
            "placeholder": "​",
            "style": "IPY_MODEL_308fc2ac05a64912818f54b22e6d032e",
            "value": " 5/1000000 [00:00&lt;20:35:31, 13.49it/s]"
          }
        },
        "5ff796bbc9a74c0292883b034c2f6106": {
          "model_module": "@jupyter-widgets/base",
          "model_name": "LayoutModel",
          "model_module_version": "1.2.0",
          "state": {
            "_model_module": "@jupyter-widgets/base",
            "_model_module_version": "1.2.0",
            "_model_name": "LayoutModel",
            "_view_count": null,
            "_view_module": "@jupyter-widgets/base",
            "_view_module_version": "1.2.0",
            "_view_name": "LayoutView",
            "align_content": null,
            "align_items": null,
            "align_self": null,
            "border": null,
            "bottom": null,
            "display": null,
            "flex": null,
            "flex_flow": null,
            "grid_area": null,
            "grid_auto_columns": null,
            "grid_auto_flow": null,
            "grid_auto_rows": null,
            "grid_column": null,
            "grid_gap": null,
            "grid_row": null,
            "grid_template_areas": null,
            "grid_template_columns": null,
            "grid_template_rows": null,
            "height": null,
            "justify_content": null,
            "justify_items": null,
            "left": null,
            "margin": null,
            "max_height": null,
            "max_width": null,
            "min_height": null,
            "min_width": null,
            "object_fit": null,
            "object_position": null,
            "order": null,
            "overflow": null,
            "overflow_x": null,
            "overflow_y": null,
            "padding": null,
            "right": null,
            "top": null,
            "visibility": null,
            "width": null
          }
        },
        "bc6e0ec0f1ee4d209dd8ee9fbacbe752": {
          "model_module": "@jupyter-widgets/base",
          "model_name": "LayoutModel",
          "model_module_version": "1.2.0",
          "state": {
            "_model_module": "@jupyter-widgets/base",
            "_model_module_version": "1.2.0",
            "_model_name": "LayoutModel",
            "_view_count": null,
            "_view_module": "@jupyter-widgets/base",
            "_view_module_version": "1.2.0",
            "_view_name": "LayoutView",
            "align_content": null,
            "align_items": null,
            "align_self": null,
            "border": null,
            "bottom": null,
            "display": null,
            "flex": null,
            "flex_flow": null,
            "grid_area": null,
            "grid_auto_columns": null,
            "grid_auto_flow": null,
            "grid_auto_rows": null,
            "grid_column": null,
            "grid_gap": null,
            "grid_row": null,
            "grid_template_areas": null,
            "grid_template_columns": null,
            "grid_template_rows": null,
            "height": null,
            "justify_content": null,
            "justify_items": null,
            "left": null,
            "margin": null,
            "max_height": null,
            "max_width": null,
            "min_height": null,
            "min_width": null,
            "object_fit": null,
            "object_position": null,
            "order": null,
            "overflow": null,
            "overflow_x": null,
            "overflow_y": null,
            "padding": null,
            "right": null,
            "top": null,
            "visibility": null,
            "width": null
          }
        },
        "ecb2ffae2fb946bbb86ec369ff6fcabe": {
          "model_module": "@jupyter-widgets/controls",
          "model_name": "DescriptionStyleModel",
          "model_module_version": "1.5.0",
          "state": {
            "_model_module": "@jupyter-widgets/controls",
            "_model_module_version": "1.5.0",
            "_model_name": "DescriptionStyleModel",
            "_view_count": null,
            "_view_module": "@jupyter-widgets/base",
            "_view_module_version": "1.2.0",
            "_view_name": "StyleView",
            "description_width": ""
          }
        },
        "5866e892a0b84e7b9bf3f3478eb0002c": {
          "model_module": "@jupyter-widgets/base",
          "model_name": "LayoutModel",
          "model_module_version": "1.2.0",
          "state": {
            "_model_module": "@jupyter-widgets/base",
            "_model_module_version": "1.2.0",
            "_model_name": "LayoutModel",
            "_view_count": null,
            "_view_module": "@jupyter-widgets/base",
            "_view_module_version": "1.2.0",
            "_view_name": "LayoutView",
            "align_content": null,
            "align_items": null,
            "align_self": null,
            "border": null,
            "bottom": null,
            "display": null,
            "flex": null,
            "flex_flow": null,
            "grid_area": null,
            "grid_auto_columns": null,
            "grid_auto_flow": null,
            "grid_auto_rows": null,
            "grid_column": null,
            "grid_gap": null,
            "grid_row": null,
            "grid_template_areas": null,
            "grid_template_columns": null,
            "grid_template_rows": null,
            "height": null,
            "justify_content": null,
            "justify_items": null,
            "left": null,
            "margin": null,
            "max_height": null,
            "max_width": null,
            "min_height": null,
            "min_width": null,
            "object_fit": null,
            "object_position": null,
            "order": null,
            "overflow": null,
            "overflow_x": null,
            "overflow_y": null,
            "padding": null,
            "right": null,
            "top": null,
            "visibility": null,
            "width": null
          }
        },
        "9d12e38a6b944eefb3825a175eeb8cb4": {
          "model_module": "@jupyter-widgets/controls",
          "model_name": "ProgressStyleModel",
          "model_module_version": "1.5.0",
          "state": {
            "_model_module": "@jupyter-widgets/controls",
            "_model_module_version": "1.5.0",
            "_model_name": "ProgressStyleModel",
            "_view_count": null,
            "_view_module": "@jupyter-widgets/base",
            "_view_module_version": "1.2.0",
            "_view_name": "StyleView",
            "bar_color": null,
            "description_width": ""
          }
        },
        "387adfbdfd9b46d283f0e570da3da313": {
          "model_module": "@jupyter-widgets/base",
          "model_name": "LayoutModel",
          "model_module_version": "1.2.0",
          "state": {
            "_model_module": "@jupyter-widgets/base",
            "_model_module_version": "1.2.0",
            "_model_name": "LayoutModel",
            "_view_count": null,
            "_view_module": "@jupyter-widgets/base",
            "_view_module_version": "1.2.0",
            "_view_name": "LayoutView",
            "align_content": null,
            "align_items": null,
            "align_self": null,
            "border": null,
            "bottom": null,
            "display": null,
            "flex": null,
            "flex_flow": null,
            "grid_area": null,
            "grid_auto_columns": null,
            "grid_auto_flow": null,
            "grid_auto_rows": null,
            "grid_column": null,
            "grid_gap": null,
            "grid_row": null,
            "grid_template_areas": null,
            "grid_template_columns": null,
            "grid_template_rows": null,
            "height": null,
            "justify_content": null,
            "justify_items": null,
            "left": null,
            "margin": null,
            "max_height": null,
            "max_width": null,
            "min_height": null,
            "min_width": null,
            "object_fit": null,
            "object_position": null,
            "order": null,
            "overflow": null,
            "overflow_x": null,
            "overflow_y": null,
            "padding": null,
            "right": null,
            "top": null,
            "visibility": null,
            "width": null
          }
        },
        "308fc2ac05a64912818f54b22e6d032e": {
          "model_module": "@jupyter-widgets/controls",
          "model_name": "DescriptionStyleModel",
          "model_module_version": "1.5.0",
          "state": {
            "_model_module": "@jupyter-widgets/controls",
            "_model_module_version": "1.5.0",
            "_model_name": "DescriptionStyleModel",
            "_view_count": null,
            "_view_module": "@jupyter-widgets/base",
            "_view_module_version": "1.2.0",
            "_view_name": "StyleView",
            "description_width": ""
          }
        },
        "6746e3fd2af64350bcb7d2f515c8abb5": {
          "model_module": "@jupyter-widgets/controls",
          "model_name": "HBoxModel",
          "model_module_version": "1.5.0",
          "state": {
            "_dom_classes": [],
            "_model_module": "@jupyter-widgets/controls",
            "_model_module_version": "1.5.0",
            "_model_name": "HBoxModel",
            "_view_count": null,
            "_view_module": "@jupyter-widgets/controls",
            "_view_module_version": "1.5.0",
            "_view_name": "HBoxView",
            "box_style": "",
            "children": [
              "IPY_MODEL_ca0e8ce196e9427fbe6b23f559a9567f",
              "IPY_MODEL_73f00abbec924892a1161b503a0d79d4",
              "IPY_MODEL_d880c48884f9490697719d80b6ccc3cf"
            ],
            "layout": "IPY_MODEL_286c40576362404d84ee9552e758bd98"
          }
        },
        "ca0e8ce196e9427fbe6b23f559a9567f": {
          "model_module": "@jupyter-widgets/controls",
          "model_name": "HTMLModel",
          "model_module_version": "1.5.0",
          "state": {
            "_dom_classes": [],
            "_model_module": "@jupyter-widgets/controls",
            "_model_module_version": "1.5.0",
            "_model_name": "HTMLModel",
            "_view_count": null,
            "_view_module": "@jupyter-widgets/controls",
            "_view_module_version": "1.5.0",
            "_view_name": "HTMLView",
            "description": "",
            "description_tooltip": null,
            "layout": "IPY_MODEL_384daedf6ae5447cbea98afbe1bd99a1",
            "placeholder": "​",
            "style": "IPY_MODEL_71640b7acd434a74987e49da37ed3f07",
            "value": "  0%"
          }
        },
        "73f00abbec924892a1161b503a0d79d4": {
          "model_module": "@jupyter-widgets/controls",
          "model_name": "FloatProgressModel",
          "model_module_version": "1.5.0",
          "state": {
            "_dom_classes": [],
            "_model_module": "@jupyter-widgets/controls",
            "_model_module_version": "1.5.0",
            "_model_name": "FloatProgressModel",
            "_view_count": null,
            "_view_module": "@jupyter-widgets/controls",
            "_view_module_version": "1.5.0",
            "_view_name": "ProgressView",
            "bar_style": "danger",
            "description": "",
            "description_tooltip": null,
            "layout": "IPY_MODEL_8ee6535fcf6241b481a9d9860f529aec",
            "max": 1000000,
            "min": 0,
            "orientation": "horizontal",
            "style": "IPY_MODEL_a2e75116994745e6a80826ee9db2aec2",
            "value": 4
          }
        },
        "d880c48884f9490697719d80b6ccc3cf": {
          "model_module": "@jupyter-widgets/controls",
          "model_name": "HTMLModel",
          "model_module_version": "1.5.0",
          "state": {
            "_dom_classes": [],
            "_model_module": "@jupyter-widgets/controls",
            "_model_module_version": "1.5.0",
            "_model_name": "HTMLModel",
            "_view_count": null,
            "_view_module": "@jupyter-widgets/controls",
            "_view_module_version": "1.5.0",
            "_view_name": "HTMLView",
            "description": "",
            "description_tooltip": null,
            "layout": "IPY_MODEL_e4d78d4b59f44c1189e429a8a2b0cde8",
            "placeholder": "​",
            "style": "IPY_MODEL_32e20f7f7bc0427d818c4dc53ddbd06e",
            "value": " 4/1000000 [00:00&lt;23:15:54, 11.94it/s]"
          }
        },
        "286c40576362404d84ee9552e758bd98": {
          "model_module": "@jupyter-widgets/base",
          "model_name": "LayoutModel",
          "model_module_version": "1.2.0",
          "state": {
            "_model_module": "@jupyter-widgets/base",
            "_model_module_version": "1.2.0",
            "_model_name": "LayoutModel",
            "_view_count": null,
            "_view_module": "@jupyter-widgets/base",
            "_view_module_version": "1.2.0",
            "_view_name": "LayoutView",
            "align_content": null,
            "align_items": null,
            "align_self": null,
            "border": null,
            "bottom": null,
            "display": null,
            "flex": null,
            "flex_flow": null,
            "grid_area": null,
            "grid_auto_columns": null,
            "grid_auto_flow": null,
            "grid_auto_rows": null,
            "grid_column": null,
            "grid_gap": null,
            "grid_row": null,
            "grid_template_areas": null,
            "grid_template_columns": null,
            "grid_template_rows": null,
            "height": null,
            "justify_content": null,
            "justify_items": null,
            "left": null,
            "margin": null,
            "max_height": null,
            "max_width": null,
            "min_height": null,
            "min_width": null,
            "object_fit": null,
            "object_position": null,
            "order": null,
            "overflow": null,
            "overflow_x": null,
            "overflow_y": null,
            "padding": null,
            "right": null,
            "top": null,
            "visibility": null,
            "width": null
          }
        },
        "384daedf6ae5447cbea98afbe1bd99a1": {
          "model_module": "@jupyter-widgets/base",
          "model_name": "LayoutModel",
          "model_module_version": "1.2.0",
          "state": {
            "_model_module": "@jupyter-widgets/base",
            "_model_module_version": "1.2.0",
            "_model_name": "LayoutModel",
            "_view_count": null,
            "_view_module": "@jupyter-widgets/base",
            "_view_module_version": "1.2.0",
            "_view_name": "LayoutView",
            "align_content": null,
            "align_items": null,
            "align_self": null,
            "border": null,
            "bottom": null,
            "display": null,
            "flex": null,
            "flex_flow": null,
            "grid_area": null,
            "grid_auto_columns": null,
            "grid_auto_flow": null,
            "grid_auto_rows": null,
            "grid_column": null,
            "grid_gap": null,
            "grid_row": null,
            "grid_template_areas": null,
            "grid_template_columns": null,
            "grid_template_rows": null,
            "height": null,
            "justify_content": null,
            "justify_items": null,
            "left": null,
            "margin": null,
            "max_height": null,
            "max_width": null,
            "min_height": null,
            "min_width": null,
            "object_fit": null,
            "object_position": null,
            "order": null,
            "overflow": null,
            "overflow_x": null,
            "overflow_y": null,
            "padding": null,
            "right": null,
            "top": null,
            "visibility": null,
            "width": null
          }
        },
        "71640b7acd434a74987e49da37ed3f07": {
          "model_module": "@jupyter-widgets/controls",
          "model_name": "DescriptionStyleModel",
          "model_module_version": "1.5.0",
          "state": {
            "_model_module": "@jupyter-widgets/controls",
            "_model_module_version": "1.5.0",
            "_model_name": "DescriptionStyleModel",
            "_view_count": null,
            "_view_module": "@jupyter-widgets/base",
            "_view_module_version": "1.2.0",
            "_view_name": "StyleView",
            "description_width": ""
          }
        },
        "8ee6535fcf6241b481a9d9860f529aec": {
          "model_module": "@jupyter-widgets/base",
          "model_name": "LayoutModel",
          "model_module_version": "1.2.0",
          "state": {
            "_model_module": "@jupyter-widgets/base",
            "_model_module_version": "1.2.0",
            "_model_name": "LayoutModel",
            "_view_count": null,
            "_view_module": "@jupyter-widgets/base",
            "_view_module_version": "1.2.0",
            "_view_name": "LayoutView",
            "align_content": null,
            "align_items": null,
            "align_self": null,
            "border": null,
            "bottom": null,
            "display": null,
            "flex": null,
            "flex_flow": null,
            "grid_area": null,
            "grid_auto_columns": null,
            "grid_auto_flow": null,
            "grid_auto_rows": null,
            "grid_column": null,
            "grid_gap": null,
            "grid_row": null,
            "grid_template_areas": null,
            "grid_template_columns": null,
            "grid_template_rows": null,
            "height": null,
            "justify_content": null,
            "justify_items": null,
            "left": null,
            "margin": null,
            "max_height": null,
            "max_width": null,
            "min_height": null,
            "min_width": null,
            "object_fit": null,
            "object_position": null,
            "order": null,
            "overflow": null,
            "overflow_x": null,
            "overflow_y": null,
            "padding": null,
            "right": null,
            "top": null,
            "visibility": null,
            "width": null
          }
        },
        "a2e75116994745e6a80826ee9db2aec2": {
          "model_module": "@jupyter-widgets/controls",
          "model_name": "ProgressStyleModel",
          "model_module_version": "1.5.0",
          "state": {
            "_model_module": "@jupyter-widgets/controls",
            "_model_module_version": "1.5.0",
            "_model_name": "ProgressStyleModel",
            "_view_count": null,
            "_view_module": "@jupyter-widgets/base",
            "_view_module_version": "1.2.0",
            "_view_name": "StyleView",
            "bar_color": null,
            "description_width": ""
          }
        },
        "e4d78d4b59f44c1189e429a8a2b0cde8": {
          "model_module": "@jupyter-widgets/base",
          "model_name": "LayoutModel",
          "model_module_version": "1.2.0",
          "state": {
            "_model_module": "@jupyter-widgets/base",
            "_model_module_version": "1.2.0",
            "_model_name": "LayoutModel",
            "_view_count": null,
            "_view_module": "@jupyter-widgets/base",
            "_view_module_version": "1.2.0",
            "_view_name": "LayoutView",
            "align_content": null,
            "align_items": null,
            "align_self": null,
            "border": null,
            "bottom": null,
            "display": null,
            "flex": null,
            "flex_flow": null,
            "grid_area": null,
            "grid_auto_columns": null,
            "grid_auto_flow": null,
            "grid_auto_rows": null,
            "grid_column": null,
            "grid_gap": null,
            "grid_row": null,
            "grid_template_areas": null,
            "grid_template_columns": null,
            "grid_template_rows": null,
            "height": null,
            "justify_content": null,
            "justify_items": null,
            "left": null,
            "margin": null,
            "max_height": null,
            "max_width": null,
            "min_height": null,
            "min_width": null,
            "object_fit": null,
            "object_position": null,
            "order": null,
            "overflow": null,
            "overflow_x": null,
            "overflow_y": null,
            "padding": null,
            "right": null,
            "top": null,
            "visibility": null,
            "width": null
          }
        },
        "32e20f7f7bc0427d818c4dc53ddbd06e": {
          "model_module": "@jupyter-widgets/controls",
          "model_name": "DescriptionStyleModel",
          "model_module_version": "1.5.0",
          "state": {
            "_model_module": "@jupyter-widgets/controls",
            "_model_module_version": "1.5.0",
            "_model_name": "DescriptionStyleModel",
            "_view_count": null,
            "_view_module": "@jupyter-widgets/base",
            "_view_module_version": "1.2.0",
            "_view_name": "StyleView",
            "description_width": ""
          }
        }
      }
    }
  },
  "nbformat": 4,
  "nbformat_minor": 0
}